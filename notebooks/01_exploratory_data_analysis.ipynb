{
  "cells": [
    {
      "cell_type": "markdown",
      "metadata": {
        "id": "jjv4ayMuEx8-"
      },
      "source": [
        "Análise exploratória dos dados"
      ]
    },
    {
      "cell_type": "markdown",
      "metadata": {
        "id": "pxybsXIXE5g8"
      },
      "source": [
        "# 1. Descrição dos dados"
      ]
    },
    {
      "cell_type": "markdown",
      "metadata": {
        "id": "3lidLkIeFHM3"
      },
      "source": [
        "## 1.1 Configurações Iniciais"
      ]
    },
    {
      "cell_type": "code",
      "execution_count": 3,
      "metadata": {
        "id": "oyBecOUJ7XPK"
      },
      "outputs": [],
      "source": [
        "#Importando as bibliotecas\n",
        "import numpy as np\n",
        "import pandas as pd\n",
        "import seaborn as sns\n",
        "import matplotlib.pyplot as plt\n",
        "from pathlib import Path\n"
      ]
    },
    {
      "cell_type": "code",
      "execution_count": 4,
      "metadata": {
        "id": "0QqphQC6tOUF"
      },
      "outputs": [],
      "source": [
        "colors = [\"#990000\", \"#48734f\"]\n",
        "sns.set_theme(style=\"whitegrid\")\n",
        "sns.set_palette(sns.color_palette(colors))"
      ]
    },
    {
      "cell_type": "markdown",
      "metadata": {
        "id": "N0P_oNLjFLlE"
      },
      "source": [
        "## 1.2 Dicionário de Dados"
      ]
    },
    {
      "cell_type": "code",
      "execution_count": 5,
      "metadata": {
        "colab": {
          "base_uri": "https://localhost:8080/",
          "height": 551
        },
        "id": "0T4SwbgAp5_z",
        "outputId": "804104d6-e5b5-4eaa-ee06-92d23d25246c"
      },
      "outputs": [
        {
          "data": {
            "text/html": [
              "<div>\n",
              "<style scoped>\n",
              "    .dataframe tbody tr th:only-of-type {\n",
              "        vertical-align: middle;\n",
              "    }\n",
              "\n",
              "    .dataframe tbody tr th {\n",
              "        vertical-align: top;\n",
              "    }\n",
              "\n",
              "    .dataframe thead th {\n",
              "        text-align: right;\n",
              "    }\n",
              "</style>\n",
              "<table border=\"1\" class=\"dataframe\">\n",
              "  <thead>\n",
              "    <tr style=\"text-align: right;\">\n",
              "      <th></th>\n",
              "      <th>variavel</th>\n",
              "      <th>significado</th>\n",
              "      <th>tipo</th>\n",
              "      <th>subtipo</th>\n",
              "    </tr>\n",
              "  </thead>\n",
              "  <tbody>\n",
              "    <tr>\n",
              "      <th>0</th>\n",
              "      <td>instant</td>\n",
              "      <td>Índice de cada registro</td>\n",
              "      <td>Quantitativa</td>\n",
              "      <td>Discreta</td>\n",
              "    </tr>\n",
              "    <tr>\n",
              "      <th>1</th>\n",
              "      <td>dteday</td>\n",
              "      <td>Data</td>\n",
              "      <td>Quantitativa</td>\n",
              "      <td>Data</td>\n",
              "    </tr>\n",
              "    <tr>\n",
              "      <th>2</th>\n",
              "      <td>season</td>\n",
              "      <td>Estação do ano (1:inverno, 2:primavera, 3:verã...</td>\n",
              "      <td>Qualitativa</td>\n",
              "      <td>Nominal</td>\n",
              "    </tr>\n",
              "    <tr>\n",
              "      <th>3</th>\n",
              "      <td>yr</td>\n",
              "      <td>Ano em que ocorreu a locação (0: 2011, 1: 2012)</td>\n",
              "      <td>Quantitativa</td>\n",
              "      <td>Discreta</td>\n",
              "    </tr>\n",
              "    <tr>\n",
              "      <th>4</th>\n",
              "      <td>mnth</td>\n",
              "      <td>Mês</td>\n",
              "      <td>Qualitativa</td>\n",
              "      <td>Ordinal</td>\n",
              "    </tr>\n",
              "    <tr>\n",
              "      <th>5</th>\n",
              "      <td>holiday</td>\n",
              "      <td>Indica se era ou não feriado (0: não, 1: sim)</td>\n",
              "      <td>Qualitativa</td>\n",
              "      <td>Nominal</td>\n",
              "    </tr>\n",
              "    <tr>\n",
              "      <th>6</th>\n",
              "      <td>weekday</td>\n",
              "      <td>Dia da semana</td>\n",
              "      <td>Qualitativa</td>\n",
              "      <td>Ordinal</td>\n",
              "    </tr>\n",
              "    <tr>\n",
              "      <th>7</th>\n",
              "      <td>workingday</td>\n",
              "      <td>Indica se é dia útil ou não (0: não, 1: sim)</td>\n",
              "      <td>Qualitativa</td>\n",
              "      <td>Nominal</td>\n",
              "    </tr>\n",
              "    <tr>\n",
              "      <th>8</th>\n",
              "      <td>weathersit</td>\n",
              "      <td>Condição climática (1: Limpo, 2: Nublado, 3: L...</td>\n",
              "      <td>Qualitativa</td>\n",
              "      <td>Ordinal</td>\n",
              "    </tr>\n",
              "    <tr>\n",
              "      <th>9</th>\n",
              "      <td>temp</td>\n",
              "      <td>Temperatura normalizada em Celsius(min = -8 gr...</td>\n",
              "      <td>Quantitativa</td>\n",
              "      <td>Contínua</td>\n",
              "    </tr>\n",
              "    <tr>\n",
              "      <th>10</th>\n",
              "      <td>atemp</td>\n",
              "      <td>Sensação térmica normalizada em Celsius (min =...</td>\n",
              "      <td>Quantitativa</td>\n",
              "      <td>Contínua</td>\n",
              "    </tr>\n",
              "    <tr>\n",
              "      <th>11</th>\n",
              "      <td>hum</td>\n",
              "      <td>Umidade normalizada</td>\n",
              "      <td>Quantitativa</td>\n",
              "      <td>Contínua</td>\n",
              "    </tr>\n",
              "    <tr>\n",
              "      <th>12</th>\n",
              "      <td>windspeed</td>\n",
              "      <td>Velocidade do vento normalizada (max 100)</td>\n",
              "      <td>Quantitativa</td>\n",
              "      <td>Contínua</td>\n",
              "    </tr>\n",
              "    <tr>\n",
              "      <th>13</th>\n",
              "      <td>casual</td>\n",
              "      <td>Contagem de usuários casuais</td>\n",
              "      <td>Quantitativa</td>\n",
              "      <td>Discreta</td>\n",
              "    </tr>\n",
              "    <tr>\n",
              "      <th>14</th>\n",
              "      <td>registered</td>\n",
              "      <td>Contagem de usuários registrados</td>\n",
              "      <td>Quantitativa</td>\n",
              "      <td>Discreta</td>\n",
              "    </tr>\n",
              "    <tr>\n",
              "      <th>15</th>\n",
              "      <td>cnt</td>\n",
              "      <td>Contagem total de aluguéis</td>\n",
              "      <td>Quantitativa</td>\n",
              "      <td>Discreta</td>\n",
              "    </tr>\n",
              "  </tbody>\n",
              "</table>\n",
              "</div>"
            ],
            "text/plain": [
              "      variavel                                        significado  \\\n",
              "0      instant                            Índice de cada registro   \n",
              "1       dteday                                               Data   \n",
              "2       season  Estação do ano (1:inverno, 2:primavera, 3:verã...   \n",
              "3           yr    Ano em que ocorreu a locação (0: 2011, 1: 2012)   \n",
              "4         mnth                                                Mês   \n",
              "5      holiday      Indica se era ou não feriado (0: não, 1: sim)   \n",
              "6      weekday                                      Dia da semana   \n",
              "7   workingday       Indica se é dia útil ou não (0: não, 1: sim)   \n",
              "8   weathersit  Condição climática (1: Limpo, 2: Nublado, 3: L...   \n",
              "9         temp  Temperatura normalizada em Celsius(min = -8 gr...   \n",
              "10       atemp  Sensação térmica normalizada em Celsius (min =...   \n",
              "11         hum                                Umidade normalizada   \n",
              "12   windspeed          Velocidade do vento normalizada (max 100)   \n",
              "13      casual                       Contagem de usuários casuais   \n",
              "14  registered                   Contagem de usuários registrados   \n",
              "15         cnt                         Contagem total de aluguéis   \n",
              "\n",
              "            tipo   subtipo  \n",
              "0   Quantitativa  Discreta  \n",
              "1   Quantitativa      Data  \n",
              "2    Qualitativa   Nominal  \n",
              "3   Quantitativa  Discreta  \n",
              "4    Qualitativa   Ordinal  \n",
              "5    Qualitativa   Nominal  \n",
              "6    Qualitativa   Ordinal  \n",
              "7    Qualitativa   Nominal  \n",
              "8    Qualitativa   Ordinal  \n",
              "9   Quantitativa  Contínua  \n",
              "10  Quantitativa  Contínua  \n",
              "11  Quantitativa  Contínua  \n",
              "12  Quantitativa  Contínua  \n",
              "13  Quantitativa  Discreta  \n",
              "14  Quantitativa  Discreta  \n",
              "15  Quantitativa  Discreta  "
            ]
          },
          "execution_count": 5,
          "metadata": {},
          "output_type": "execute_result"
        }
      ],
      "source": [
        "data_path = ('https://raw.githubusercontent.com/lrodriguesg/bike-bytes/master/data/external/dicionario.csv')\n",
        "df_dict = pd.read_csv(data_path, sep=',') #Obtendo o dataset\n",
        "\n",
        "df_dict"
      ]
    },
    {
      "cell_type": "markdown",
      "metadata": {
        "id": "3F1BMgbQHrq0"
      },
      "source": [
        "## 1.3 Conjunto de dados"
      ]
    },
    {
      "cell_type": "code",
      "execution_count": 6,
      "metadata": {
        "colab": {
          "base_uri": "https://localhost:8080/",
          "height": 206
        },
        "id": "zq1t_fCT8dA8",
        "outputId": "2bf7fe61-4336-4ce0-f9ed-0289f44d6e40"
      },
      "outputs": [
        {
          "data": {
            "text/html": [
              "<div>\n",
              "<style scoped>\n",
              "    .dataframe tbody tr th:only-of-type {\n",
              "        vertical-align: middle;\n",
              "    }\n",
              "\n",
              "    .dataframe tbody tr th {\n",
              "        vertical-align: top;\n",
              "    }\n",
              "\n",
              "    .dataframe thead th {\n",
              "        text-align: right;\n",
              "    }\n",
              "</style>\n",
              "<table border=\"1\" class=\"dataframe\">\n",
              "  <thead>\n",
              "    <tr style=\"text-align: right;\">\n",
              "      <th></th>\n",
              "      <th>instant</th>\n",
              "      <th>dteday</th>\n",
              "      <th>season</th>\n",
              "      <th>yr</th>\n",
              "      <th>mnth</th>\n",
              "      <th>holiday</th>\n",
              "      <th>weekday</th>\n",
              "      <th>workingday</th>\n",
              "      <th>weathersit</th>\n",
              "      <th>temp</th>\n",
              "      <th>atemp</th>\n",
              "      <th>hum</th>\n",
              "      <th>windspeed</th>\n",
              "      <th>casual</th>\n",
              "      <th>registered</th>\n",
              "      <th>cnt</th>\n",
              "    </tr>\n",
              "  </thead>\n",
              "  <tbody>\n",
              "    <tr>\n",
              "      <th>0</th>\n",
              "      <td>1</td>\n",
              "      <td>2011-01-01</td>\n",
              "      <td>1</td>\n",
              "      <td>0</td>\n",
              "      <td>1</td>\n",
              "      <td>0</td>\n",
              "      <td>6</td>\n",
              "      <td>0</td>\n",
              "      <td>2</td>\n",
              "      <td>0.344167</td>\n",
              "      <td>0.363625</td>\n",
              "      <td>0.805833</td>\n",
              "      <td>0.160446</td>\n",
              "      <td>331</td>\n",
              "      <td>654</td>\n",
              "      <td>985</td>\n",
              "    </tr>\n",
              "    <tr>\n",
              "      <th>1</th>\n",
              "      <td>2</td>\n",
              "      <td>2011-01-02</td>\n",
              "      <td>1</td>\n",
              "      <td>0</td>\n",
              "      <td>1</td>\n",
              "      <td>0</td>\n",
              "      <td>0</td>\n",
              "      <td>0</td>\n",
              "      <td>2</td>\n",
              "      <td>0.363478</td>\n",
              "      <td>0.353739</td>\n",
              "      <td>0.696087</td>\n",
              "      <td>0.248539</td>\n",
              "      <td>131</td>\n",
              "      <td>670</td>\n",
              "      <td>801</td>\n",
              "    </tr>\n",
              "    <tr>\n",
              "      <th>2</th>\n",
              "      <td>3</td>\n",
              "      <td>2011-01-03</td>\n",
              "      <td>1</td>\n",
              "      <td>0</td>\n",
              "      <td>1</td>\n",
              "      <td>0</td>\n",
              "      <td>1</td>\n",
              "      <td>1</td>\n",
              "      <td>1</td>\n",
              "      <td>0.196364</td>\n",
              "      <td>0.189405</td>\n",
              "      <td>0.437273</td>\n",
              "      <td>0.248309</td>\n",
              "      <td>120</td>\n",
              "      <td>1229</td>\n",
              "      <td>1349</td>\n",
              "    </tr>\n",
              "    <tr>\n",
              "      <th>3</th>\n",
              "      <td>4</td>\n",
              "      <td>2011-01-04</td>\n",
              "      <td>1</td>\n",
              "      <td>0</td>\n",
              "      <td>1</td>\n",
              "      <td>0</td>\n",
              "      <td>2</td>\n",
              "      <td>1</td>\n",
              "      <td>1</td>\n",
              "      <td>0.200000</td>\n",
              "      <td>0.212122</td>\n",
              "      <td>0.590435</td>\n",
              "      <td>0.160296</td>\n",
              "      <td>108</td>\n",
              "      <td>1454</td>\n",
              "      <td>1562</td>\n",
              "    </tr>\n",
              "    <tr>\n",
              "      <th>4</th>\n",
              "      <td>5</td>\n",
              "      <td>2011-01-05</td>\n",
              "      <td>1</td>\n",
              "      <td>0</td>\n",
              "      <td>1</td>\n",
              "      <td>0</td>\n",
              "      <td>3</td>\n",
              "      <td>1</td>\n",
              "      <td>1</td>\n",
              "      <td>0.226957</td>\n",
              "      <td>0.229270</td>\n",
              "      <td>0.436957</td>\n",
              "      <td>0.186900</td>\n",
              "      <td>82</td>\n",
              "      <td>1518</td>\n",
              "      <td>1600</td>\n",
              "    </tr>\n",
              "  </tbody>\n",
              "</table>\n",
              "</div>"
            ],
            "text/plain": [
              "   instant      dteday  season  yr  mnth  holiday  weekday  workingday  \\\n",
              "0        1  2011-01-01       1   0     1        0        6           0   \n",
              "1        2  2011-01-02       1   0     1        0        0           0   \n",
              "2        3  2011-01-03       1   0     1        0        1           1   \n",
              "3        4  2011-01-04       1   0     1        0        2           1   \n",
              "4        5  2011-01-05       1   0     1        0        3           1   \n",
              "\n",
              "   weathersit      temp     atemp       hum  windspeed  casual  registered  \\\n",
              "0           2  0.344167  0.363625  0.805833   0.160446     331         654   \n",
              "1           2  0.363478  0.353739  0.696087   0.248539     131         670   \n",
              "2           1  0.196364  0.189405  0.437273   0.248309     120        1229   \n",
              "3           1  0.200000  0.212122  0.590435   0.160296     108        1454   \n",
              "4           1  0.226957  0.229270  0.436957   0.186900      82        1518   \n",
              "\n",
              "    cnt  \n",
              "0   985  \n",
              "1   801  \n",
              "2  1349  \n",
              "3  1562  \n",
              "4  1600  "
            ]
          },
          "execution_count": 6,
          "metadata": {},
          "output_type": "execute_result"
        }
      ],
      "source": [
        "df = pd.read_csv(r'https://raw.githubusercontent.com/lrodriguesg/bike-bytes/master/data/raw/data.csv')\n",
        "df.head()"
      ]
    },
    {
      "cell_type": "code",
      "execution_count": 7,
      "metadata": {
        "colab": {
          "base_uri": "https://localhost:8080/"
        },
        "id": "ICO094dSRStA",
        "outputId": "6cfb1351-6f44-4a5c-8f5f-62814e903589"
      },
      "outputs": [
        {
          "data": {
            "text/plain": [
              "(731, 16)"
            ]
          },
          "execution_count": 7,
          "metadata": {},
          "output_type": "execute_result"
        }
      ],
      "source": [
        "df.shape"
      ]
    },
    {
      "cell_type": "markdown",
      "metadata": {
        "id": "HeAXOZ5UNb1G"
      },
      "source": [
        "\n",
        "\n",
        "**Resumo Estatístico**"
      ]
    },
    {
      "cell_type": "code",
      "execution_count": 8,
      "metadata": {
        "colab": {
          "base_uri": "https://localhost:8080/",
          "height": 300
        },
        "id": "f0yFWv0G8yx8",
        "outputId": "02f51396-f34a-408a-e535-0ac2040e1eb8"
      },
      "outputs": [
        {
          "data": {
            "text/html": [
              "<div>\n",
              "<style scoped>\n",
              "    .dataframe tbody tr th:only-of-type {\n",
              "        vertical-align: middle;\n",
              "    }\n",
              "\n",
              "    .dataframe tbody tr th {\n",
              "        vertical-align: top;\n",
              "    }\n",
              "\n",
              "    .dataframe thead th {\n",
              "        text-align: right;\n",
              "    }\n",
              "</style>\n",
              "<table border=\"1\" class=\"dataframe\">\n",
              "  <thead>\n",
              "    <tr style=\"text-align: right;\">\n",
              "      <th></th>\n",
              "      <th>temp</th>\n",
              "      <th>atemp</th>\n",
              "      <th>windspeed</th>\n",
              "      <th>casual</th>\n",
              "      <th>registered</th>\n",
              "      <th>cnt</th>\n",
              "    </tr>\n",
              "  </thead>\n",
              "  <tbody>\n",
              "    <tr>\n",
              "      <th>count</th>\n",
              "      <td>731.000000</td>\n",
              "      <td>731.000000</td>\n",
              "      <td>731.000000</td>\n",
              "      <td>731.000000</td>\n",
              "      <td>731.000000</td>\n",
              "      <td>731.000000</td>\n",
              "    </tr>\n",
              "    <tr>\n",
              "      <th>mean</th>\n",
              "      <td>0.495385</td>\n",
              "      <td>0.474354</td>\n",
              "      <td>0.190486</td>\n",
              "      <td>848.176471</td>\n",
              "      <td>3656.172367</td>\n",
              "      <td>4504.348837</td>\n",
              "    </tr>\n",
              "    <tr>\n",
              "      <th>std</th>\n",
              "      <td>0.183051</td>\n",
              "      <td>0.162961</td>\n",
              "      <td>0.077498</td>\n",
              "      <td>686.622488</td>\n",
              "      <td>1560.256377</td>\n",
              "      <td>1937.211452</td>\n",
              "    </tr>\n",
              "    <tr>\n",
              "      <th>min</th>\n",
              "      <td>0.059130</td>\n",
              "      <td>0.079070</td>\n",
              "      <td>0.022392</td>\n",
              "      <td>2.000000</td>\n",
              "      <td>20.000000</td>\n",
              "      <td>22.000000</td>\n",
              "    </tr>\n",
              "    <tr>\n",
              "      <th>25%</th>\n",
              "      <td>0.337083</td>\n",
              "      <td>0.337842</td>\n",
              "      <td>0.134950</td>\n",
              "      <td>315.500000</td>\n",
              "      <td>2497.000000</td>\n",
              "      <td>3152.000000</td>\n",
              "    </tr>\n",
              "    <tr>\n",
              "      <th>50%</th>\n",
              "      <td>0.498333</td>\n",
              "      <td>0.486733</td>\n",
              "      <td>0.180975</td>\n",
              "      <td>713.000000</td>\n",
              "      <td>3662.000000</td>\n",
              "      <td>4548.000000</td>\n",
              "    </tr>\n",
              "    <tr>\n",
              "      <th>75%</th>\n",
              "      <td>0.655417</td>\n",
              "      <td>0.608602</td>\n",
              "      <td>0.233214</td>\n",
              "      <td>1096.000000</td>\n",
              "      <td>4776.500000</td>\n",
              "      <td>5956.000000</td>\n",
              "    </tr>\n",
              "    <tr>\n",
              "      <th>max</th>\n",
              "      <td>0.861667</td>\n",
              "      <td>0.840896</td>\n",
              "      <td>0.507463</td>\n",
              "      <td>3410.000000</td>\n",
              "      <td>6946.000000</td>\n",
              "      <td>8714.000000</td>\n",
              "    </tr>\n",
              "  </tbody>\n",
              "</table>\n",
              "</div>"
            ],
            "text/plain": [
              "             temp       atemp   windspeed       casual   registered  \\\n",
              "count  731.000000  731.000000  731.000000   731.000000   731.000000   \n",
              "mean     0.495385    0.474354    0.190486   848.176471  3656.172367   \n",
              "std      0.183051    0.162961    0.077498   686.622488  1560.256377   \n",
              "min      0.059130    0.079070    0.022392     2.000000    20.000000   \n",
              "25%      0.337083    0.337842    0.134950   315.500000  2497.000000   \n",
              "50%      0.498333    0.486733    0.180975   713.000000  3662.000000   \n",
              "75%      0.655417    0.608602    0.233214  1096.000000  4776.500000   \n",
              "max      0.861667    0.840896    0.507463  3410.000000  6946.000000   \n",
              "\n",
              "               cnt  \n",
              "count   731.000000  \n",
              "mean   4504.348837  \n",
              "std    1937.211452  \n",
              "min      22.000000  \n",
              "25%    3152.000000  \n",
              "50%    4548.000000  \n",
              "75%    5956.000000  \n",
              "max    8714.000000  "
            ]
          },
          "execution_count": 8,
          "metadata": {},
          "output_type": "execute_result"
        }
      ],
      "source": [
        "df[['temp', 'atemp', 'windspeed', 'casual', 'registered','cnt']].describe()"
      ]
    },
    {
      "cell_type": "code",
      "execution_count": 9,
      "metadata": {
        "colab": {
          "base_uri": "https://localhost:8080/"
        },
        "id": "aj7EUZrY8ujP",
        "outputId": "a67bbb1b-740a-4a3e-93f5-292a0f623690"
      },
      "outputs": [
        {
          "name": "stdout",
          "output_type": "stream",
          "text": [
            "<class 'pandas.core.frame.DataFrame'>\n",
            "RangeIndex: 731 entries, 0 to 730\n",
            "Data columns (total 16 columns):\n",
            " #   Column      Non-Null Count  Dtype  \n",
            "---  ------      --------------  -----  \n",
            " 0   instant     731 non-null    int64  \n",
            " 1   dteday      731 non-null    object \n",
            " 2   season      731 non-null    int64  \n",
            " 3   yr          731 non-null    int64  \n",
            " 4   mnth        731 non-null    int64  \n",
            " 5   holiday     731 non-null    int64  \n",
            " 6   weekday     731 non-null    int64  \n",
            " 7   workingday  731 non-null    int64  \n",
            " 8   weathersit  731 non-null    int64  \n",
            " 9   temp        731 non-null    float64\n",
            " 10  atemp       731 non-null    float64\n",
            " 11  hum         731 non-null    float64\n",
            " 12  windspeed   731 non-null    float64\n",
            " 13  casual      731 non-null    int64  \n",
            " 14  registered  731 non-null    int64  \n",
            " 15  cnt         731 non-null    int64  \n",
            "dtypes: float64(4), int64(11), object(1)\n",
            "memory usage: 91.5+ KB\n"
          ]
        }
      ],
      "source": [
        "info = df.info()"
      ]
    },
    {
      "cell_type": "markdown",
      "metadata": {
        "id": "iTBAsjQDPPjw"
      },
      "source": [
        "## 1.4 Dados Faltantes"
      ]
    },
    {
      "cell_type": "markdown",
      "metadata": {
        "id": "wR-nmXTMQz1X"
      },
      "source": [
        "Na análise anterior é possível observar que cada coluna também tem 731 entradas não nulas, isso indica que não há dados nulos em nenhuma das colunas do DataFrame."
      ]
    },
    {
      "cell_type": "code",
      "execution_count": 10,
      "metadata": {
        "colab": {
          "base_uri": "https://localhost:8080/",
          "height": 551
        },
        "id": "xNOqzRJdPEE9",
        "outputId": "a4d05bc7-d189-4796-a272-f4431d0f453f"
      },
      "outputs": [
        {
          "data": {
            "text/html": [
              "<div>\n",
              "<style scoped>\n",
              "    .dataframe tbody tr th:only-of-type {\n",
              "        vertical-align: middle;\n",
              "    }\n",
              "\n",
              "    .dataframe tbody tr th {\n",
              "        vertical-align: top;\n",
              "    }\n",
              "\n",
              "    .dataframe thead th {\n",
              "        text-align: right;\n",
              "    }\n",
              "</style>\n",
              "<table border=\"1\" class=\"dataframe\">\n",
              "  <thead>\n",
              "    <tr style=\"text-align: right;\">\n",
              "      <th></th>\n",
              "      <th>variavel</th>\n",
              "      <th>Has Null</th>\n",
              "    </tr>\n",
              "  </thead>\n",
              "  <tbody>\n",
              "    <tr>\n",
              "      <th>0</th>\n",
              "      <td>instant</td>\n",
              "      <td>False</td>\n",
              "    </tr>\n",
              "    <tr>\n",
              "      <th>1</th>\n",
              "      <td>dteday</td>\n",
              "      <td>False</td>\n",
              "    </tr>\n",
              "    <tr>\n",
              "      <th>2</th>\n",
              "      <td>season</td>\n",
              "      <td>False</td>\n",
              "    </tr>\n",
              "    <tr>\n",
              "      <th>3</th>\n",
              "      <td>yr</td>\n",
              "      <td>False</td>\n",
              "    </tr>\n",
              "    <tr>\n",
              "      <th>4</th>\n",
              "      <td>mnth</td>\n",
              "      <td>False</td>\n",
              "    </tr>\n",
              "    <tr>\n",
              "      <th>5</th>\n",
              "      <td>holiday</td>\n",
              "      <td>False</td>\n",
              "    </tr>\n",
              "    <tr>\n",
              "      <th>6</th>\n",
              "      <td>weekday</td>\n",
              "      <td>False</td>\n",
              "    </tr>\n",
              "    <tr>\n",
              "      <th>7</th>\n",
              "      <td>workingday</td>\n",
              "      <td>False</td>\n",
              "    </tr>\n",
              "    <tr>\n",
              "      <th>8</th>\n",
              "      <td>weathersit</td>\n",
              "      <td>False</td>\n",
              "    </tr>\n",
              "    <tr>\n",
              "      <th>9</th>\n",
              "      <td>temp</td>\n",
              "      <td>False</td>\n",
              "    </tr>\n",
              "    <tr>\n",
              "      <th>10</th>\n",
              "      <td>atemp</td>\n",
              "      <td>False</td>\n",
              "    </tr>\n",
              "    <tr>\n",
              "      <th>11</th>\n",
              "      <td>hum</td>\n",
              "      <td>False</td>\n",
              "    </tr>\n",
              "    <tr>\n",
              "      <th>12</th>\n",
              "      <td>windspeed</td>\n",
              "      <td>False</td>\n",
              "    </tr>\n",
              "    <tr>\n",
              "      <th>13</th>\n",
              "      <td>casual</td>\n",
              "      <td>False</td>\n",
              "    </tr>\n",
              "    <tr>\n",
              "      <th>14</th>\n",
              "      <td>registered</td>\n",
              "      <td>False</td>\n",
              "    </tr>\n",
              "    <tr>\n",
              "      <th>15</th>\n",
              "      <td>cnt</td>\n",
              "      <td>False</td>\n",
              "    </tr>\n",
              "  </tbody>\n",
              "</table>\n",
              "</div>"
            ],
            "text/plain": [
              "      variavel  Has Null\n",
              "0      instant     False\n",
              "1       dteday     False\n",
              "2       season     False\n",
              "3           yr     False\n",
              "4         mnth     False\n",
              "5      holiday     False\n",
              "6      weekday     False\n",
              "7   workingday     False\n",
              "8   weathersit     False\n",
              "9         temp     False\n",
              "10       atemp     False\n",
              "11         hum     False\n",
              "12   windspeed     False\n",
              "13      casual     False\n",
              "14  registered     False\n",
              "15         cnt     False"
            ]
          },
          "execution_count": 10,
          "metadata": {},
          "output_type": "execute_result"
        }
      ],
      "source": [
        "#Fazendo verificação de nulos ultilizando o dicionário\n",
        "checagem_de_nulos = {\n",
        "    'variavel': df_dict['variavel'],\n",
        "    'Has Null': []\n",
        "}\n",
        "\n",
        "for index, row in df_dict.iterrows():\n",
        "    checagem_de_nulos['Has Null'].append(df[row['variavel']].isnull().any())\n",
        "\n",
        "df_checagem_de_nulos = pd.DataFrame.from_dict(checagem_de_nulos)\n",
        "df_checagem_de_nulos"
      ]
    },
    {
      "cell_type": "markdown",
      "metadata": {
        "id": "czxhFnR3OVen"
      },
      "source": [
        "# 1.5 Clone e Mapeamento dos dados"
      ]
    },
    {
      "cell_type": "markdown",
      "metadata": {
        "id": "6dglFAyrr3Ns"
      },
      "source": [
        "Apesar de os dados já estarem descritos no dicionário, para facilitar a vizualização, foi feita uma cópia e o mapeamento dos dados nessa cópia"
      ]
    },
    {
      "cell_type": "code",
      "execution_count": 11,
      "metadata": {
        "id": "B56yaBmvrqmf"
      },
      "outputs": [],
      "source": [
        "df2 = df.copy()"
      ]
    },
    {
      "cell_type": "code",
      "execution_count": 12,
      "metadata": {
        "id": "QYrKoQ-4rpRb"
      },
      "outputs": [],
      "source": [
        "df2['season'] = df['season'].replace({1: 'winter', 2: 'spring', 3: 'summer', 4: 'fall'})\n",
        "df2['yr'] = df2['yr'].replace({0: 2011, 1: 2012})\n",
        "df2['holiday'] = df2['holiday'].replace({0: 'no', 1: 'yes'})\n",
        "df2['weekday'] = df2['weekday'].replace({0: 'Sunday', 1:'Monday', 2: 'Tuesday',\n",
        "                                         3: 'Wednesday', 4: 'Thursday', 5: 'Friday',\n",
        "                                         6: 'Saturday'})\n",
        "df2['workingday'] = df2['workingday'].replace({0: 'no', 1: 'yes'})\n",
        "df2['weathersit'] = df['weathersit'].replace({1: 'Clear/Few clouds', 2: 'Cloudy', 3:'Light Snow/Light Rain', 4: 'Heavy Rain/Ice Pallets/Heavy Snow'})"
      ]
    },
    {
      "cell_type": "code",
      "execution_count": 13,
      "metadata": {
        "id": "vFwBxQBzVSfM"
      },
      "outputs": [],
      "source": [
        "# 1. passando o df2 para csv\n",
        "# df2.to_csv('df2.csv', index=False)"
      ]
    },
    {
      "cell_type": "markdown",
      "metadata": {
        "id": "5xgQc7eSXjuM"
      },
      "source": [
        "# 2.0 Perguntas de partida\n"
      ]
    },
    {
      "cell_type": "markdown",
      "metadata": {
        "id": "R3TDy7DcX3sI"
      },
      "source": [
        "Visualizando os dados podemos gerar e reponder algumas perguntas norteadoras:\n",
        "\n",
        "\n",
        "\n",
        "*   Quantos alugueis no total em cada ano ?\n",
        "*   Qual o impacto dos feriados e finais de semana na locação das bikes ?\n",
        "*   Qual epoca do ano é a mais movimentada ?\n",
        "*   Qual variável mais influencia nos alugueis ?\n",
        "*   Qual a influencia da temperatura e da sensação termica na locação de bicicletas ?\n",
        "*   Quais dias da semana com mais locações ?\n",
        "\n",
        "\n",
        "\n",
        "\n"
      ]
    },
    {
      "cell_type": "markdown",
      "metadata": {
        "id": "njjY95AHaEOg"
      },
      "source": [
        "# 3.0 Insights"
      ]
    },
    {
      "cell_type": "markdown",
      "metadata": {
        "id": "kDxqdI_vaKyj"
      },
      "source": [
        "## 3.1 Quantidades de alugueis totais por ano"
      ]
    },
    {
      "cell_type": "code",
      "execution_count": 14,
      "metadata": {
        "colab": {
          "base_uri": "https://localhost:8080/",
          "height": 112
        },
        "id": "KZIr4JSHaH7r",
        "outputId": "35231b33-67c9-40ca-8a5c-5fe48a813b02"
      },
      "outputs": [
        {
          "data": {
            "text/html": [
              "<div>\n",
              "<style scoped>\n",
              "    .dataframe tbody tr th:only-of-type {\n",
              "        vertical-align: middle;\n",
              "    }\n",
              "\n",
              "    .dataframe tbody tr th {\n",
              "        vertical-align: top;\n",
              "    }\n",
              "\n",
              "    .dataframe thead th {\n",
              "        text-align: right;\n",
              "    }\n",
              "</style>\n",
              "<table border=\"1\" class=\"dataframe\">\n",
              "  <thead>\n",
              "    <tr style=\"text-align: right;\">\n",
              "      <th></th>\n",
              "      <th>yr</th>\n",
              "      <th>cnt</th>\n",
              "    </tr>\n",
              "  </thead>\n",
              "  <tbody>\n",
              "    <tr>\n",
              "      <th>0</th>\n",
              "      <td>2011</td>\n",
              "      <td>1243103</td>\n",
              "    </tr>\n",
              "    <tr>\n",
              "      <th>1</th>\n",
              "      <td>2012</td>\n",
              "      <td>2049576</td>\n",
              "    </tr>\n",
              "  </tbody>\n",
              "</table>\n",
              "</div>"
            ],
            "text/plain": [
              "     yr      cnt\n",
              "0  2011  1243103\n",
              "1  2012  2049576"
            ]
          },
          "execution_count": 14,
          "metadata": {},
          "output_type": "execute_result"
        }
      ],
      "source": [
        "alugueis_ano = df2.groupby('yr')['cnt'].sum().reset_index()\n",
        "alugueis_ano"
      ]
    },
    {
      "cell_type": "code",
      "execution_count": 15,
      "metadata": {
        "colab": {
          "base_uri": "https://localhost:8080/",
          "height": 419
        },
        "id": "Od7cssh8lHT9",
        "outputId": "65d6ccfd-712e-434e-8d64-075eb2b26862"
      },
      "outputs": [
        {
          "data": {
            "image/png": "[encoded data removed]",
            "text/plain": [
              "<Figure size 576x288 with 1 Axes>"
            ]
          },
          "metadata": {
            "needs_background": "light"
          },
          "output_type": "display_data"
        }
      ],
      "source": [
        "# Criando o grafico de barras.\n",
        "plt.figure(figsize=(8, 4))\n",
        "ax = sns.barplot(x='yr', y='cnt', data=alugueis_ano, palette=colors)\n",
        "\n",
        "\n",
        "# Adicionando rótulos aos eixos e um título ao gráfico\n",
        "plt.xlabel('Anos')\n",
        "plt.ylabel('Soma dos Alugueis')\n",
        "plt.title('Soma dos Alugueis por Ano')\n",
        "\n",
        "# Substituindo os rótulos no eixo y\n",
        "ax.set_xticklabels(['2011', '2012'])\n",
        "\n",
        "\n",
        "plt.show()"
      ]
    },
    {
      "cell_type": "markdown",
      "metadata": {
        "id": "df7qxTrDeDFD"
      },
      "source": [
        "Com isso podemos observar que o ano de 2012 teve quase o dobro de alugueis de bikes comparado com o ano de 2011.\n"
      ]
    },
    {
      "cell_type": "markdown",
      "metadata": {
        "id": "Yz7zc1uhe30B"
      },
      "source": [
        "## 3.2 Alugueis por feriado/final de semana"
      ]
    },
    {
      "cell_type": "code",
      "execution_count": 16,
      "metadata": {
        "colab": {
          "base_uri": "https://localhost:8080/",
          "height": 112
        },
        "id": "paDzuDOj4dVw",
        "outputId": "115450b6-e6e7-4c80-ccb9-d45a17ac2649"
      },
      "outputs": [
        {
          "data": {
            "text/html": [
              "<div>\n",
              "<style scoped>\n",
              "    .dataframe tbody tr th:only-of-type {\n",
              "        vertical-align: middle;\n",
              "    }\n",
              "\n",
              "    .dataframe tbody tr th {\n",
              "        vertical-align: top;\n",
              "    }\n",
              "\n",
              "    .dataframe thead th {\n",
              "        text-align: right;\n",
              "    }\n",
              "</style>\n",
              "<table border=\"1\" class=\"dataframe\">\n",
              "  <thead>\n",
              "    <tr style=\"text-align: right;\">\n",
              "      <th></th>\n",
              "      <th>workingday</th>\n",
              "      <th>Total</th>\n",
              "      <th>Ratio</th>\n",
              "    </tr>\n",
              "  </thead>\n",
              "  <tbody>\n",
              "    <tr>\n",
              "      <th>0</th>\n",
              "      <td>no</td>\n",
              "      <td>1000269</td>\n",
              "      <td>0.316005</td>\n",
              "    </tr>\n",
              "    <tr>\n",
              "      <th>1</th>\n",
              "      <td>yes</td>\n",
              "      <td>2292410</td>\n",
              "      <td>0.683995</td>\n",
              "    </tr>\n",
              "  </tbody>\n",
              "</table>\n",
              "</div>"
            ],
            "text/plain": [
              "  workingday    Total     Ratio\n",
              "0         no  1000269  0.316005\n",
              "1        yes  2292410  0.683995"
            ]
          },
          "execution_count": 16,
          "metadata": {},
          "output_type": "execute_result"
        }
      ],
      "source": [
        "# Calculando a proporção\n",
        "alugueis_feriados = df2.groupby('workingday')['cnt'].sum().reset_index()\n",
        "alugueis_feriados_p = df2['workingday'].value_counts(normalize=True).reset_index()\n",
        "alugueis_feriados_p.columns = ['workingday', 'Ratio']\n",
        "\n",
        "# Merge dos DataFrames\n",
        "alugueis_feriados = pd.merge(alugueis_feriados, alugueis_feriados_p, on='workingday')\n",
        "alugueis_feriados.rename(columns={'cnt': 'Total'}, inplace=True)\n",
        "\n",
        "alugueis_feriados\n"
      ]
    },
    {
      "cell_type": "code",
      "execution_count": 17,
      "metadata": {
        "colab": {
          "base_uri": "https://localhost:8080/",
          "height": 419
        },
        "id": "H1GvcP3f0GNU",
        "outputId": "f7abbc9e-17d1-41a8-930b-35d9026ac19b"
      },
      "outputs": [
        {
          "data": {
            "image/png": "[encoded data removed]",
            "text/plain": [
              "<Figure size 576x288 with 1 Axes>"
            ]
          },
          "metadata": {
            "needs_background": "light"
          },
          "output_type": "display_data"
        }
      ],
      "source": [
        "# Criando o grafico de barras.\n",
        "plt.figure(figsize=(8, 4))\n",
        "ax = sns.barplot(x='workingday', y='Total', data=alugueis_feriados, palette=colors)\n",
        "\n",
        "\n",
        "# Adicionando rótulos aos eixos e um título ao gráfico\n",
        "plt.xlabel('Dia útil ?')\n",
        "plt.ylabel('Soma dos Alugueis')\n",
        "plt.title('Soma dos Alugueis por dias úteis')\n",
        "\n",
        "# Substituindo os rótulos no eixo y\n",
        "ax.set_xticklabels(['Não', 'Sim'])\n",
        "\n",
        "\n",
        "\n",
        "plt.show()"
      ]
    },
    {
      "cell_type": "markdown",
      "metadata": {
        "id": "uBFcTdJ0jZj_"
      },
      "source": [
        "Com isso podemos observar que nos dias úteis a movimentação dos alugueis é bem maior.\n"
      ]
    },
    {
      "cell_type": "code",
      "execution_count": 18,
      "metadata": {
        "colab": {
          "base_uri": "https://localhost:8080/",
          "height": 419
        },
        "id": "CP1-magqhJfO",
        "outputId": "c53cfcae-b1c1-4b01-c194-be554479c42b"
      },
      "outputs": [
        {
          "data": {
            "image/png": "[encoded data removed]",
            "text/plain": [
              "<Figure size 576x288 with 1 Axes>"
            ]
          },
          "metadata": {
            "needs_background": "light"
          },
          "output_type": "display_data"
        }
      ],
      "source": [
        "#Grafico dia da semana\n",
        "PALLETE =  {\n",
        "    'Saturday': '#d7d3f4',\n",
        "    'Sunday': '#8bd7f4',\n",
        "    'Monday': '#f4d7d3',\n",
        "    'Tuesday': '#90ccc6',\n",
        "    'Wednesday': '#c5ff5a',\n",
        "    'Thursday': '#dbe596',\n",
        "    'Friday': '#e7eff9',\n",
        "    }\n",
        "plt.figure(figsize=(8, 4))\n",
        "ax = sns.barplot(x='weekday', y='cnt', data=df2, palette= PALLETE)\n",
        "\n",
        "\n",
        "# Adicionando rótulos aos eixos e um título ao gráfico\n",
        "plt.xlabel('Dia da semana')\n",
        "plt.ylabel('Soma dos Alugueis')\n",
        "plt.title('Soma dos Alugueis por dias da semana')\n",
        "\n",
        "\n",
        "\n",
        "\n",
        "plt.show()"
      ]
    },
    {
      "cell_type": "markdown",
      "metadata": {
        "id": "KBZOE3lP36dg"
      },
      "source": [
        "## 3.3 Comparando estações do ano"
      ]
    },
    {
      "cell_type": "code",
      "execution_count": 19,
      "metadata": {
        "colab": {
          "base_uri": "https://localhost:8080/",
          "height": 601
        },
        "id": "dzn3gCo34BHn",
        "outputId": "0b832ade-6b12-446c-b14e-6c88409667f4"
      },
      "outputs": [
        {
          "data": {
            "image/png": "[encoded data removed]",
            "text/plain": [
              "<Figure size 864x432 with 2 Axes>"
            ]
          },
          "metadata": {
            "needs_background": "light"
          },
          "output_type": "display_data"
        }
      ],
      "source": [
        "PALLETE =  {\n",
        "    'winter': '#405e95',\n",
        "    'spring': '#76b96b',\n",
        "    'summer': '#f58020',\n",
        "    'fall': '#d74014'\n",
        "    }\n",
        "\n",
        "# Criando uma figura com dois subplots (um ao lado do outro)\n",
        "fig, (ax1, ax2) = plt.subplots(1, 2, figsize=(12, 6))\n",
        "\n",
        "# Filtrando os dados para 2011 e 2012\n",
        "dados_2011 = df2[df2['yr'] == 2011]\n",
        "dados_2012 = df2[df2['yr'] == 2012]\n",
        "\n",
        "# Criando gráficos de barras para 2011 e 2012\n",
        "sns.barplot(x='cnt', y='season', data=dados_2011, ax=ax1, palette=PALLETE)\n",
        "ax1.set_xlabel('Soma das locações')\n",
        "ax1.set_ylabel('Estação')\n",
        "ax1.set_title('Locações por Estação em 2011')\n",
        "\n",
        "sns.barplot(x='cnt', y='season', data=dados_2012, ax=ax2, palette=PALLETE)\n",
        "ax2.set_xlabel('Soma das locações')\n",
        "ax2.set_ylabel('Estação')\n",
        "ax2.set_title('Locações por Estação em 2012')\n",
        "\n",
        "# Ajustando o espaçamento entre os subplots\n",
        "plt.tight_layout()\n",
        "\n",
        "\n",
        "plt.show()"
      ]
    },
    {
      "cell_type": "code",
      "execution_count": 20,
      "metadata": {
        "colab": {
          "base_uri": "https://localhost:8080/",
          "height": 601
        },
        "id": "eXNvi_ckXPwQ",
        "outputId": "47c606c7-2859-4c77-9736-4ce1c82871a6"
      },
      "outputs": [
        {
          "data": {
            "image/png": "[encoded data removed]",
            "text/plain": [
              "<Figure size 864x432 with 2 Axes>"
            ]
          },
          "metadata": {
            "needs_background": "light"
          },
          "output_type": "display_data"
        }
      ],
      "source": [
        "PALLETE =  {\n",
        "    'winter': '#405e95',\n",
        "    'spring': '#76b96b',\n",
        "    'summer': '#f58020',\n",
        "    'fall': '#d74014'\n",
        "    }\n",
        "# Criando uma figura com dois subplots (um ao lado do outro)\n",
        "fig, (ax1, ax2) = plt.subplots(1, 2, figsize=(12, 6))\n",
        "# Filtrando os dados para 2011 e 2012\n",
        "dados_semferiado = df2[df2['holiday'] == 'no']\n",
        "dados_comferiado = df2[df2['holiday'] == 'yes']\n",
        "\n",
        "#Criando gráficos boxplot para com feriado e sem feriado\n",
        "ax = sns.boxplot(x='season', y='cnt', data=dados_semferiado, ax=ax1, palette=PALLETE)\n",
        "ax1.set_xlabel('Dias que não são feriados')\n",
        "ax1.set_ylabel('Quantidade de alugueis')\n",
        "ax = sns.boxplot(x='season', y='cnt', data=dados_comferiado, ax=ax2, palette=PALLETE)\n",
        "ax2.set_xlabel('Dias que são feriados')\n",
        "ax2.set_ylabel('Quantidade de alugueis')\n",
        "# Ajustando o espaçamento entre os subplots\n",
        "plt.tight_layout()"
      ]
    },
    {
      "cell_type": "markdown",
      "metadata": {
        "id": "LlCeXxKFChBZ"
      },
      "source": [
        "Podemos observar que o verão possui mais alugueis nos anos analisados"
      ]
    },
    {
      "cell_type": "markdown",
      "metadata": {
        "id": "ICzH2aOFFqV5"
      },
      "source": [
        "## 3.4 Gráfico de correlação"
      ]
    },
    {
      "cell_type": "code",
      "execution_count": 21,
      "metadata": {
        "colab": {
          "base_uri": "https://localhost:8080/",
          "height": 424
        },
        "id": "zQ1xYXV_LQ60",
        "outputId": "4af73ad5-809c-4c0c-8285-5ed928e0ac87"
      },
      "outputs": [],
      "source": [
        "#Escolhendo colunas para normalizar.\n",
        "# df_normalizar = df.drop(axis=1, labels=['instant', 'dteday'])\n",
        "\n",
        "# Aplicando a normalização z-score apenas às colunas selecionadas\n",
        "# df_normalizar = ((df_normalizar - df_normalizar.mean()) / df_normalizar.std()) * -1\n",
        "\n",
        "# df_normalizar"
      ]
    },
    {
      "cell_type": "code",
      "execution_count": 22,
      "metadata": {
        "colab": {
          "base_uri": "https://localhost:8080/",
          "height": 931
        },
        "id": "V3bzncQEFxfo",
        "outputId": "c345691f-425a-4542-bedf-7a0e3507cf38"
      },
      "outputs": [
        {
          "data": {
            "image/png": "[encoded data removed]",
            "text/plain": [
              "<Figure size 1080x720 with 2 Axes>"
            ]
          },
          "metadata": {
            "needs_background": "light"
          },
          "output_type": "display_data"
        }
      ],
      "source": [
        "correlacao = df.corr()\n",
        "\n",
        "\n",
        "\n",
        "# Criando um heatmap da matriz de correlação\n",
        "plt.figure(figsize=(15, 10))\n",
        "sns.heatmap(correlacao, annot=True, cmap=\"coolwarm\", fmt=\".2f\", linewidths=0.5)\n",
        "plt.title(\"Heatmap de Correlação\")\n",
        "plt.show()"
      ]
    },
    {
      "cell_type": "markdown",
      "metadata": {},
      "source": [
        "Conseguimos observar que as variaveis que estão tendo maior impacto na nossa variavel target('cnt') são a temperatura e a sensação térmica."
      ]
    },
    {
      "cell_type": "markdown",
      "metadata": {
        "id": "VRL3cm5LjncA"
      },
      "source": [
        "## 3.5 Influencia da temperatura e da sensação termica na locação"
      ]
    },
    {
      "cell_type": "code",
      "execution_count": 23,
      "metadata": {
        "colab": {
          "base_uri": "https://localhost:8080/",
          "height": 424
        },
        "id": "ezWhVQkndiz4",
        "outputId": "d60ef7e2-df77-4bc7-f999-ac6a9c71066b"
      },
      "outputs": [
        {
          "data": {
            "text/html": [
              "<div>\n",
              "<style scoped>\n",
              "    .dataframe tbody tr th:only-of-type {\n",
              "        vertical-align: middle;\n",
              "    }\n",
              "\n",
              "    .dataframe tbody tr th {\n",
              "        vertical-align: top;\n",
              "    }\n",
              "\n",
              "    .dataframe thead th {\n",
              "        text-align: right;\n",
              "    }\n",
              "</style>\n",
              "<table border=\"1\" class=\"dataframe\">\n",
              "  <thead>\n",
              "    <tr style=\"text-align: right;\">\n",
              "      <th></th>\n",
              "      <th>instant</th>\n",
              "      <th>dteday</th>\n",
              "      <th>season</th>\n",
              "      <th>yr</th>\n",
              "      <th>mnth</th>\n",
              "      <th>holiday</th>\n",
              "      <th>weekday</th>\n",
              "      <th>workingday</th>\n",
              "      <th>weathersit</th>\n",
              "      <th>temp</th>\n",
              "      <th>atemp</th>\n",
              "      <th>hum</th>\n",
              "      <th>windspeed</th>\n",
              "      <th>casual</th>\n",
              "      <th>registered</th>\n",
              "      <th>cnt</th>\n",
              "      <th>Temperatura_Original</th>\n",
              "    </tr>\n",
              "  </thead>\n",
              "  <tbody>\n",
              "    <tr>\n",
              "      <th>0</th>\n",
              "      <td>1</td>\n",
              "      <td>2011-01-01</td>\n",
              "      <td>winter</td>\n",
              "      <td>2011</td>\n",
              "      <td>1</td>\n",
              "      <td>no</td>\n",
              "      <td>Saturday</td>\n",
              "      <td>no</td>\n",
              "      <td>Cloudy</td>\n",
              "      <td>0.344167</td>\n",
              "      <td>0.363625</td>\n",
              "      <td>0.805833</td>\n",
              "      <td>0.160446</td>\n",
              "      <td>331</td>\n",
              "      <td>654</td>\n",
              "      <td>985</td>\n",
              "      <td>8.175849</td>\n",
              "    </tr>\n",
              "    <tr>\n",
              "      <th>1</th>\n",
              "      <td>2</td>\n",
              "      <td>2011-01-02</td>\n",
              "      <td>winter</td>\n",
              "      <td>2011</td>\n",
              "      <td>1</td>\n",
              "      <td>no</td>\n",
              "      <td>Sunday</td>\n",
              "      <td>no</td>\n",
              "      <td>Cloudy</td>\n",
              "      <td>0.363478</td>\n",
              "      <td>0.353739</td>\n",
              "      <td>0.696087</td>\n",
              "      <td>0.248539</td>\n",
              "      <td>131</td>\n",
              "      <td>670</td>\n",
              "      <td>801</td>\n",
              "      <td>9.083466</td>\n",
              "    </tr>\n",
              "    <tr>\n",
              "      <th>2</th>\n",
              "      <td>3</td>\n",
              "      <td>2011-01-03</td>\n",
              "      <td>winter</td>\n",
              "      <td>2011</td>\n",
              "      <td>1</td>\n",
              "      <td>no</td>\n",
              "      <td>Monday</td>\n",
              "      <td>yes</td>\n",
              "      <td>Clear/Few clouds</td>\n",
              "      <td>0.196364</td>\n",
              "      <td>0.189405</td>\n",
              "      <td>0.437273</td>\n",
              "      <td>0.248309</td>\n",
              "      <td>120</td>\n",
              "      <td>1229</td>\n",
              "      <td>1349</td>\n",
              "      <td>1.229108</td>\n",
              "    </tr>\n",
              "    <tr>\n",
              "      <th>3</th>\n",
              "      <td>4</td>\n",
              "      <td>2011-01-04</td>\n",
              "      <td>winter</td>\n",
              "      <td>2011</td>\n",
              "      <td>1</td>\n",
              "      <td>no</td>\n",
              "      <td>Tuesday</td>\n",
              "      <td>yes</td>\n",
              "      <td>Clear/Few clouds</td>\n",
              "      <td>0.200000</td>\n",
              "      <td>0.212122</td>\n",
              "      <td>0.590435</td>\n",
              "      <td>0.160296</td>\n",
              "      <td>108</td>\n",
              "      <td>1454</td>\n",
              "      <td>1562</td>\n",
              "      <td>1.400000</td>\n",
              "    </tr>\n",
              "    <tr>\n",
              "      <th>4</th>\n",
              "      <td>5</td>\n",
              "      <td>2011-01-05</td>\n",
              "      <td>winter</td>\n",
              "      <td>2011</td>\n",
              "      <td>1</td>\n",
              "      <td>no</td>\n",
              "      <td>Wednesday</td>\n",
              "      <td>yes</td>\n",
              "      <td>Clear/Few clouds</td>\n",
              "      <td>0.226957</td>\n",
              "      <td>0.229270</td>\n",
              "      <td>0.436957</td>\n",
              "      <td>0.186900</td>\n",
              "      <td>82</td>\n",
              "      <td>1518</td>\n",
              "      <td>1600</td>\n",
              "      <td>2.666979</td>\n",
              "    </tr>\n",
              "    <tr>\n",
              "      <th>...</th>\n",
              "      <td>...</td>\n",
              "      <td>...</td>\n",
              "      <td>...</td>\n",
              "      <td>...</td>\n",
              "      <td>...</td>\n",
              "      <td>...</td>\n",
              "      <td>...</td>\n",
              "      <td>...</td>\n",
              "      <td>...</td>\n",
              "      <td>...</td>\n",
              "      <td>...</td>\n",
              "      <td>...</td>\n",
              "      <td>...</td>\n",
              "      <td>...</td>\n",
              "      <td>...</td>\n",
              "      <td>...</td>\n",
              "      <td>...</td>\n",
              "    </tr>\n",
              "    <tr>\n",
              "      <th>726</th>\n",
              "      <td>727</td>\n",
              "      <td>2012-12-27</td>\n",
              "      <td>winter</td>\n",
              "      <td>2012</td>\n",
              "      <td>12</td>\n",
              "      <td>no</td>\n",
              "      <td>Thursday</td>\n",
              "      <td>yes</td>\n",
              "      <td>Cloudy</td>\n",
              "      <td>0.254167</td>\n",
              "      <td>0.226642</td>\n",
              "      <td>0.652917</td>\n",
              "      <td>0.350133</td>\n",
              "      <td>247</td>\n",
              "      <td>1867</td>\n",
              "      <td>2114</td>\n",
              "      <td>3.945849</td>\n",
              "    </tr>\n",
              "    <tr>\n",
              "      <th>727</th>\n",
              "      <td>728</td>\n",
              "      <td>2012-12-28</td>\n",
              "      <td>winter</td>\n",
              "      <td>2012</td>\n",
              "      <td>12</td>\n",
              "      <td>no</td>\n",
              "      <td>Friday</td>\n",
              "      <td>yes</td>\n",
              "      <td>Cloudy</td>\n",
              "      <td>0.253333</td>\n",
              "      <td>0.255046</td>\n",
              "      <td>0.590000</td>\n",
              "      <td>0.155471</td>\n",
              "      <td>644</td>\n",
              "      <td>2451</td>\n",
              "      <td>3095</td>\n",
              "      <td>3.906651</td>\n",
              "    </tr>\n",
              "    <tr>\n",
              "      <th>728</th>\n",
              "      <td>729</td>\n",
              "      <td>2012-12-29</td>\n",
              "      <td>winter</td>\n",
              "      <td>2012</td>\n",
              "      <td>12</td>\n",
              "      <td>no</td>\n",
              "      <td>Saturday</td>\n",
              "      <td>no</td>\n",
              "      <td>Cloudy</td>\n",
              "      <td>0.253333</td>\n",
              "      <td>0.242400</td>\n",
              "      <td>0.752917</td>\n",
              "      <td>0.124383</td>\n",
              "      <td>159</td>\n",
              "      <td>1182</td>\n",
              "      <td>1341</td>\n",
              "      <td>3.906651</td>\n",
              "    </tr>\n",
              "    <tr>\n",
              "      <th>729</th>\n",
              "      <td>730</td>\n",
              "      <td>2012-12-30</td>\n",
              "      <td>winter</td>\n",
              "      <td>2012</td>\n",
              "      <td>12</td>\n",
              "      <td>no</td>\n",
              "      <td>Sunday</td>\n",
              "      <td>no</td>\n",
              "      <td>Clear/Few clouds</td>\n",
              "      <td>0.255833</td>\n",
              "      <td>0.231700</td>\n",
              "      <td>0.483333</td>\n",
              "      <td>0.350754</td>\n",
              "      <td>364</td>\n",
              "      <td>1432</td>\n",
              "      <td>1796</td>\n",
              "      <td>4.024151</td>\n",
              "    </tr>\n",
              "    <tr>\n",
              "      <th>730</th>\n",
              "      <td>731</td>\n",
              "      <td>2012-12-31</td>\n",
              "      <td>winter</td>\n",
              "      <td>2012</td>\n",
              "      <td>12</td>\n",
              "      <td>no</td>\n",
              "      <td>Monday</td>\n",
              "      <td>yes</td>\n",
              "      <td>Cloudy</td>\n",
              "      <td>0.215833</td>\n",
              "      <td>0.223487</td>\n",
              "      <td>0.577500</td>\n",
              "      <td>0.154846</td>\n",
              "      <td>439</td>\n",
              "      <td>2290</td>\n",
              "      <td>2729</td>\n",
              "      <td>2.144151</td>\n",
              "    </tr>\n",
              "  </tbody>\n",
              "</table>\n",
              "<p>731 rows × 17 columns</p>\n",
              "</div>"
            ],
            "text/plain": [
              "     instant      dteday  season    yr  mnth holiday    weekday workingday  \\\n",
              "0          1  2011-01-01  winter  2011     1      no   Saturday         no   \n",
              "1          2  2011-01-02  winter  2011     1      no     Sunday         no   \n",
              "2          3  2011-01-03  winter  2011     1      no     Monday        yes   \n",
              "3          4  2011-01-04  winter  2011     1      no    Tuesday        yes   \n",
              "4          5  2011-01-05  winter  2011     1      no  Wednesday        yes   \n",
              "..       ...         ...     ...   ...   ...     ...        ...        ...   \n",
              "726      727  2012-12-27  winter  2012    12      no   Thursday        yes   \n",
              "727      728  2012-12-28  winter  2012    12      no     Friday        yes   \n",
              "728      729  2012-12-29  winter  2012    12      no   Saturday         no   \n",
              "729      730  2012-12-30  winter  2012    12      no     Sunday         no   \n",
              "730      731  2012-12-31  winter  2012    12      no     Monday        yes   \n",
              "\n",
              "           weathersit      temp     atemp       hum  windspeed  casual  \\\n",
              "0              Cloudy  0.344167  0.363625  0.805833   0.160446     331   \n",
              "1              Cloudy  0.363478  0.353739  0.696087   0.248539     131   \n",
              "2    Clear/Few clouds  0.196364  0.189405  0.437273   0.248309     120   \n",
              "3    Clear/Few clouds  0.200000  0.212122  0.590435   0.160296     108   \n",
              "4    Clear/Few clouds  0.226957  0.229270  0.436957   0.186900      82   \n",
              "..                ...       ...       ...       ...        ...     ...   \n",
              "726            Cloudy  0.254167  0.226642  0.652917   0.350133     247   \n",
              "727            Cloudy  0.253333  0.255046  0.590000   0.155471     644   \n",
              "728            Cloudy  0.253333  0.242400  0.752917   0.124383     159   \n",
              "729  Clear/Few clouds  0.255833  0.231700  0.483333   0.350754     364   \n",
              "730            Cloudy  0.215833  0.223487  0.577500   0.154846     439   \n",
              "\n",
              "     registered   cnt  Temperatura_Original  \n",
              "0           654   985              8.175849  \n",
              "1           670   801              9.083466  \n",
              "2          1229  1349              1.229108  \n",
              "3          1454  1562              1.400000  \n",
              "4          1518  1600              2.666979  \n",
              "..          ...   ...                   ...  \n",
              "726        1867  2114              3.945849  \n",
              "727        2451  3095              3.906651  \n",
              "728        1182  1341              3.906651  \n",
              "729        1432  1796              4.024151  \n",
              "730        2290  2729              2.144151  \n",
              "\n",
              "[731 rows x 17 columns]"
            ]
          },
          "execution_count": 23,
          "metadata": {},
          "output_type": "execute_result"
        }
      ],
      "source": [
        "#Desfazendo a normalização das temperaturas.\n",
        "\n",
        "# Valores originais do mínimo e do máximo das temperaturas\n",
        "minimo_original = -8\n",
        "maximo_original = 39\n",
        "\n",
        "# Desfazendo a normalização min-max\n",
        "df2['Temperatura_Original'] = (df['temp'] * (maximo_original - minimo_original)) + minimo_original\n",
        "\n",
        "df2"
      ]
    },
    {
      "cell_type": "code",
      "execution_count": 24,
      "metadata": {
        "colab": {
          "base_uri": "https://localhost:8080/",
          "height": 424
        },
        "id": "ldcdx-iMd1U6",
        "outputId": "48e4c5f5-3a23-41d7-93dd-0ddc69241c67"
      },
      "outputs": [
        {
          "data": {
            "text/html": [
              "<div>\n",
              "<style scoped>\n",
              "    .dataframe tbody tr th:only-of-type {\n",
              "        vertical-align: middle;\n",
              "    }\n",
              "\n",
              "    .dataframe tbody tr th {\n",
              "        vertical-align: top;\n",
              "    }\n",
              "\n",
              "    .dataframe thead th {\n",
              "        text-align: right;\n",
              "    }\n",
              "</style>\n",
              "<table border=\"1\" class=\"dataframe\">\n",
              "  <thead>\n",
              "    <tr style=\"text-align: right;\">\n",
              "      <th></th>\n",
              "      <th>instant</th>\n",
              "      <th>dteday</th>\n",
              "      <th>season</th>\n",
              "      <th>yr</th>\n",
              "      <th>mnth</th>\n",
              "      <th>holiday</th>\n",
              "      <th>weekday</th>\n",
              "      <th>workingday</th>\n",
              "      <th>weathersit</th>\n",
              "      <th>temp</th>\n",
              "      <th>atemp</th>\n",
              "      <th>hum</th>\n",
              "      <th>windspeed</th>\n",
              "      <th>casual</th>\n",
              "      <th>registered</th>\n",
              "      <th>cnt</th>\n",
              "      <th>Temperatura_Original</th>\n",
              "      <th>aTemperatura_Original</th>\n",
              "    </tr>\n",
              "  </thead>\n",
              "  <tbody>\n",
              "    <tr>\n",
              "      <th>0</th>\n",
              "      <td>1</td>\n",
              "      <td>2011-01-01</td>\n",
              "      <td>winter</td>\n",
              "      <td>2011</td>\n",
              "      <td>1</td>\n",
              "      <td>no</td>\n",
              "      <td>Saturday</td>\n",
              "      <td>no</td>\n",
              "      <td>Cloudy</td>\n",
              "      <td>0.344167</td>\n",
              "      <td>0.363625</td>\n",
              "      <td>0.805833</td>\n",
              "      <td>0.160446</td>\n",
              "      <td>331</td>\n",
              "      <td>654</td>\n",
              "      <td>985</td>\n",
              "      <td>8.175849</td>\n",
              "      <td>7.999250</td>\n",
              "    </tr>\n",
              "    <tr>\n",
              "      <th>1</th>\n",
              "      <td>2</td>\n",
              "      <td>2011-01-02</td>\n",
              "      <td>winter</td>\n",
              "      <td>2011</td>\n",
              "      <td>1</td>\n",
              "      <td>no</td>\n",
              "      <td>Sunday</td>\n",
              "      <td>no</td>\n",
              "      <td>Cloudy</td>\n",
              "      <td>0.363478</td>\n",
              "      <td>0.353739</td>\n",
              "      <td>0.696087</td>\n",
              "      <td>0.248539</td>\n",
              "      <td>131</td>\n",
              "      <td>670</td>\n",
              "      <td>801</td>\n",
              "      <td>9.083466</td>\n",
              "      <td>7.346774</td>\n",
              "    </tr>\n",
              "    <tr>\n",
              "      <th>2</th>\n",
              "      <td>3</td>\n",
              "      <td>2011-01-03</td>\n",
              "      <td>winter</td>\n",
              "      <td>2011</td>\n",
              "      <td>1</td>\n",
              "      <td>no</td>\n",
              "      <td>Monday</td>\n",
              "      <td>yes</td>\n",
              "      <td>Clear/Few clouds</td>\n",
              "      <td>0.196364</td>\n",
              "      <td>0.189405</td>\n",
              "      <td>0.437273</td>\n",
              "      <td>0.248309</td>\n",
              "      <td>120</td>\n",
              "      <td>1229</td>\n",
              "      <td>1349</td>\n",
              "      <td>1.229108</td>\n",
              "      <td>-3.499270</td>\n",
              "    </tr>\n",
              "    <tr>\n",
              "      <th>3</th>\n",
              "      <td>4</td>\n",
              "      <td>2011-01-04</td>\n",
              "      <td>winter</td>\n",
              "      <td>2011</td>\n",
              "      <td>1</td>\n",
              "      <td>no</td>\n",
              "      <td>Tuesday</td>\n",
              "      <td>yes</td>\n",
              "      <td>Clear/Few clouds</td>\n",
              "      <td>0.200000</td>\n",
              "      <td>0.212122</td>\n",
              "      <td>0.590435</td>\n",
              "      <td>0.160296</td>\n",
              "      <td>108</td>\n",
              "      <td>1454</td>\n",
              "      <td>1562</td>\n",
              "      <td>1.400000</td>\n",
              "      <td>-1.999948</td>\n",
              "    </tr>\n",
              "    <tr>\n",
              "      <th>4</th>\n",
              "      <td>5</td>\n",
              "      <td>2011-01-05</td>\n",
              "      <td>winter</td>\n",
              "      <td>2011</td>\n",
              "      <td>1</td>\n",
              "      <td>no</td>\n",
              "      <td>Wednesday</td>\n",
              "      <td>yes</td>\n",
              "      <td>Clear/Few clouds</td>\n",
              "      <td>0.226957</td>\n",
              "      <td>0.229270</td>\n",
              "      <td>0.436957</td>\n",
              "      <td>0.186900</td>\n",
              "      <td>82</td>\n",
              "      <td>1518</td>\n",
              "      <td>1600</td>\n",
              "      <td>2.666979</td>\n",
              "      <td>-0.868180</td>\n",
              "    </tr>\n",
              "    <tr>\n",
              "      <th>...</th>\n",
              "      <td>...</td>\n",
              "      <td>...</td>\n",
              "      <td>...</td>\n",
              "      <td>...</td>\n",
              "      <td>...</td>\n",
              "      <td>...</td>\n",
              "      <td>...</td>\n",
              "      <td>...</td>\n",
              "      <td>...</td>\n",
              "      <td>...</td>\n",
              "      <td>...</td>\n",
              "      <td>...</td>\n",
              "      <td>...</td>\n",
              "      <td>...</td>\n",
              "      <td>...</td>\n",
              "      <td>...</td>\n",
              "      <td>...</td>\n",
              "      <td>...</td>\n",
              "    </tr>\n",
              "    <tr>\n",
              "      <th>726</th>\n",
              "      <td>727</td>\n",
              "      <td>2012-12-27</td>\n",
              "      <td>winter</td>\n",
              "      <td>2012</td>\n",
              "      <td>12</td>\n",
              "      <td>no</td>\n",
              "      <td>Thursday</td>\n",
              "      <td>yes</td>\n",
              "      <td>Cloudy</td>\n",
              "      <td>0.254167</td>\n",
              "      <td>0.226642</td>\n",
              "      <td>0.652917</td>\n",
              "      <td>0.350133</td>\n",
              "      <td>247</td>\n",
              "      <td>1867</td>\n",
              "      <td>2114</td>\n",
              "      <td>3.945849</td>\n",
              "      <td>-1.041628</td>\n",
              "    </tr>\n",
              "    <tr>\n",
              "      <th>727</th>\n",
              "      <td>728</td>\n",
              "      <td>2012-12-28</td>\n",
              "      <td>winter</td>\n",
              "      <td>2012</td>\n",
              "      <td>12</td>\n",
              "      <td>no</td>\n",
              "      <td>Friday</td>\n",
              "      <td>yes</td>\n",
              "      <td>Cloudy</td>\n",
              "      <td>0.253333</td>\n",
              "      <td>0.255046</td>\n",
              "      <td>0.590000</td>\n",
              "      <td>0.155471</td>\n",
              "      <td>644</td>\n",
              "      <td>2451</td>\n",
              "      <td>3095</td>\n",
              "      <td>3.906651</td>\n",
              "      <td>0.833036</td>\n",
              "    </tr>\n",
              "    <tr>\n",
              "      <th>728</th>\n",
              "      <td>729</td>\n",
              "      <td>2012-12-29</td>\n",
              "      <td>winter</td>\n",
              "      <td>2012</td>\n",
              "      <td>12</td>\n",
              "      <td>no</td>\n",
              "      <td>Saturday</td>\n",
              "      <td>no</td>\n",
              "      <td>Cloudy</td>\n",
              "      <td>0.253333</td>\n",
              "      <td>0.242400</td>\n",
              "      <td>0.752917</td>\n",
              "      <td>0.124383</td>\n",
              "      <td>159</td>\n",
              "      <td>1182</td>\n",
              "      <td>1341</td>\n",
              "      <td>3.906651</td>\n",
              "      <td>-0.001600</td>\n",
              "    </tr>\n",
              "    <tr>\n",
              "      <th>729</th>\n",
              "      <td>730</td>\n",
              "      <td>2012-12-30</td>\n",
              "      <td>winter</td>\n",
              "      <td>2012</td>\n",
              "      <td>12</td>\n",
              "      <td>no</td>\n",
              "      <td>Sunday</td>\n",
              "      <td>no</td>\n",
              "      <td>Clear/Few clouds</td>\n",
              "      <td>0.255833</td>\n",
              "      <td>0.231700</td>\n",
              "      <td>0.483333</td>\n",
              "      <td>0.350754</td>\n",
              "      <td>364</td>\n",
              "      <td>1432</td>\n",
              "      <td>1796</td>\n",
              "      <td>4.024151</td>\n",
              "      <td>-0.707800</td>\n",
              "    </tr>\n",
              "    <tr>\n",
              "      <th>730</th>\n",
              "      <td>731</td>\n",
              "      <td>2012-12-31</td>\n",
              "      <td>winter</td>\n",
              "      <td>2012</td>\n",
              "      <td>12</td>\n",
              "      <td>no</td>\n",
              "      <td>Monday</td>\n",
              "      <td>yes</td>\n",
              "      <td>Cloudy</td>\n",
              "      <td>0.215833</td>\n",
              "      <td>0.223487</td>\n",
              "      <td>0.577500</td>\n",
              "      <td>0.154846</td>\n",
              "      <td>439</td>\n",
              "      <td>2290</td>\n",
              "      <td>2729</td>\n",
              "      <td>2.144151</td>\n",
              "      <td>-1.249858</td>\n",
              "    </tr>\n",
              "  </tbody>\n",
              "</table>\n",
              "<p>731 rows × 18 columns</p>\n",
              "</div>"
            ],
            "text/plain": [
              "     instant      dteday  season    yr  mnth holiday    weekday workingday  \\\n",
              "0          1  2011-01-01  winter  2011     1      no   Saturday         no   \n",
              "1          2  2011-01-02  winter  2011     1      no     Sunday         no   \n",
              "2          3  2011-01-03  winter  2011     1      no     Monday        yes   \n",
              "3          4  2011-01-04  winter  2011     1      no    Tuesday        yes   \n",
              "4          5  2011-01-05  winter  2011     1      no  Wednesday        yes   \n",
              "..       ...         ...     ...   ...   ...     ...        ...        ...   \n",
              "726      727  2012-12-27  winter  2012    12      no   Thursday        yes   \n",
              "727      728  2012-12-28  winter  2012    12      no     Friday        yes   \n",
              "728      729  2012-12-29  winter  2012    12      no   Saturday         no   \n",
              "729      730  2012-12-30  winter  2012    12      no     Sunday         no   \n",
              "730      731  2012-12-31  winter  2012    12      no     Monday        yes   \n",
              "\n",
              "           weathersit      temp     atemp       hum  windspeed  casual  \\\n",
              "0              Cloudy  0.344167  0.363625  0.805833   0.160446     331   \n",
              "1              Cloudy  0.363478  0.353739  0.696087   0.248539     131   \n",
              "2    Clear/Few clouds  0.196364  0.189405  0.437273   0.248309     120   \n",
              "3    Clear/Few clouds  0.200000  0.212122  0.590435   0.160296     108   \n",
              "4    Clear/Few clouds  0.226957  0.229270  0.436957   0.186900      82   \n",
              "..                ...       ...       ...       ...        ...     ...   \n",
              "726            Cloudy  0.254167  0.226642  0.652917   0.350133     247   \n",
              "727            Cloudy  0.253333  0.255046  0.590000   0.155471     644   \n",
              "728            Cloudy  0.253333  0.242400  0.752917   0.124383     159   \n",
              "729  Clear/Few clouds  0.255833  0.231700  0.483333   0.350754     364   \n",
              "730            Cloudy  0.215833  0.223487  0.577500   0.154846     439   \n",
              "\n",
              "     registered   cnt  Temperatura_Original  aTemperatura_Original  \n",
              "0           654   985              8.175849               7.999250  \n",
              "1           670   801              9.083466               7.346774  \n",
              "2          1229  1349              1.229108              -3.499270  \n",
              "3          1454  1562              1.400000              -1.999948  \n",
              "4          1518  1600              2.666979              -0.868180  \n",
              "..          ...   ...                   ...                    ...  \n",
              "726        1867  2114              3.945849              -1.041628  \n",
              "727        2451  3095              3.906651               0.833036  \n",
              "728        1182  1341              3.906651              -0.001600  \n",
              "729        1432  1796              4.024151              -0.707800  \n",
              "730        2290  2729              2.144151              -1.249858  \n",
              "\n",
              "[731 rows x 18 columns]"
            ]
          },
          "execution_count": 24,
          "metadata": {},
          "output_type": "execute_result"
        }
      ],
      "source": [
        "#Desfazendo a normalização das temperaturas.\n",
        "\n",
        "# Valores originais do mínimo e do máximo das temperaturas\n",
        "minimo_original = -16\n",
        "maximo_original = 50\n",
        "\n",
        "# Desfazendo a normalização min-max\n",
        "df2['aTemperatura_Original'] = (df['atemp'] * (maximo_original - minimo_original)) + minimo_original\n",
        "\n",
        "df2"
      ]
    },
    {
      "cell_type": "code",
      "execution_count": 25,
      "metadata": {
        "colab": {
          "base_uri": "https://localhost:8080/",
          "height": 573
        },
        "id": "lR6_MTA-NZBz",
        "outputId": "00cc076d-805a-414c-ca35-5545727e9f42"
      },
      "outputs": [
        {
          "data": {
            "image/png": "[encoded data removed]",
            "text/plain": [
              "<Figure size 864x432 with 1 Axes>"
            ]
          },
          "metadata": {
            "needs_background": "light"
          },
          "output_type": "display_data"
        }
      ],
      "source": [
        "plt.figure(figsize=(12, 6))\n",
        "sns.regplot(x=df2['Temperatura_Original'], y=df['cnt'], data=df, scatter_kws={'alpha':0.4}, line_kws={'color':'green'})\n",
        "plt.title('Relação entre alugueis e temperatura')\n",
        "plt.show()"
      ]
    },
    {
      "cell_type": "code",
      "execution_count": 26,
      "metadata": {
        "colab": {
          "base_uri": "https://localhost:8080/",
          "height": 573
        },
        "id": "prQJqn2VeJ6a",
        "outputId": "b232b51b-0062-4cf1-f514-29e721cbe0af"
      },
      "outputs": [
        {
          "data": {
            "image/png": "[encoded data removed]",
            "text/plain": [
              "<Figure size 720x432 with 2 Axes>"
            ]
          },
          "metadata": {
            "needs_background": "light"
          },
          "output_type": "display_data"
        }
      ],
      "source": [
        "# Gráfico relação de temperatura, sensação térmica e alugueis.\n",
        "\n",
        "plt.figure(figsize=(10, 6))\n",
        "plt.scatter(df2['Temperatura_Original'], df2['aTemperatura_Original'], c=df2['cnt'], cmap='viridis')\n",
        "plt.colorbar(label='Aluguéis de Bicicletas')\n",
        "plt.xlabel('Temperatura (°C)')\n",
        "plt.ylabel('Sensação Térmica (°C)')\n",
        "plt.title('Relação entre Temperatura, Sensação Térmica e Aluguéis de Bicicletas')\n",
        "plt.show()"
      ]
    },
    {
      "cell_type": "markdown",
      "metadata": {},
      "source": [
        "Aqui conseguimos observar que as temperaturas mais favoraveis para a locação de bicicletas estão entre 15 e aproximadamente 28 graus °C, com o pico em torno dos 26°~27°. Tambem é possivel observar um outlier na sensação térmica."
      ]
    }
  ],
  "metadata": {
    "colab": {
      "provenance": []
    },
    "kernelspec": {
      "display_name": "Python 3",
      "name": "python3"
    },
    "language_info": {
      "codemirror_mode": {
        "name": "ipython",
        "version": 3
      },
      "file_extension": ".py",
      "mimetype": "text/x-python",
      "name": "python",
      "nbconvert_exporter": "python",
      "pygments_lexer": "ipython3",
      "version": "3.8.10"
    }
  },
  "nbformat": 4,
  "nbformat_minor": 0
}
