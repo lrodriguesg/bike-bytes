{
  "cells": [
    {
      "cell_type": "markdown",
      "metadata": {
        "id": "xJ2e48bh3FDq"
      },
      "source": [
        "#Análise Comparativa"
      ]
    },
    {
      "cell_type": "markdown",
      "metadata": {
        "id": "4qSum4894AfF"
      },
      "source": [
        "##1. Preparação dos dados"
      ]
    },
    {
      "cell_type": "markdown",
      "metadata": {
        "id": "L0VDwkhh3Kno"
      },
      "source": [
        "###1.1 Configurações Iniciais"
      ]
    },
    {
      "cell_type": "code",
      "execution_count": 1,
      "metadata": {
        "id": "De1gvX1h5yaS"
      },
      "outputs": [],
      "source": [
        "import pandas as pd\n",
        "import numpy as np\n",
        "import seaborn as sns\n",
        "from IPython.display import Markdown\n",
        "from sklearn.pipeline import TransformerMixin # Usada no tratamento de outliers\n",
        "from scipy.spatial.distance import cdist # Usada no tratamento de outliers\n",
        "from sklearn.preprocessing import OneHotEncoder\n",
        "import numpy as np\n",
        "import pandas as pd\n",
        "from sklearn.model_selection import KFold# Para a validação cruzada\n",
        "\n",
        "# Para os modelos\n",
        "from sklearn.linear_model import LinearRegression\n",
        "from sklearn.neighbors import KNeighborsRegressor\n",
        "from sklearn.svm import SVR\n",
        "from sklearn.tree import DecisionTreeRegressor\n",
        "\n",
        "from sklearn.metrics import mean_squared_error, r2_score# Para métricas\n",
        "\n",
        "from sklearn.preprocessing import OneHotEncoder, MinMaxScaler# Para pré-processamento\n",
        "import matplotlib.pyplot as plt"
      ]
    },
    {
      "cell_type": "markdown",
      "metadata": {
        "id": "7HuwxZQB3cvX"
      },
      "source": [
        "###1.2 Carregando os dados"
      ]
    },
    {
      "cell_type": "code",
      "execution_count": 2,
      "metadata": {
        "colab": {
          "base_uri": "https://localhost:8080/",
          "height": 206
        },
        "id": "k3Wk-eNbYFw1",
        "outputId": "e489bc67-550c-4357-894e-43150529aac1"
      },
      "outputs": [
        {
          "data": {
            "text/html": [
              "<div>\n",
              "<style scoped>\n",
              "    .dataframe tbody tr th:only-of-type {\n",
              "        vertical-align: middle;\n",
              "    }\n",
              "\n",
              "    .dataframe tbody tr th {\n",
              "        vertical-align: top;\n",
              "    }\n",
              "\n",
              "    .dataframe thead th {\n",
              "        text-align: right;\n",
              "    }\n",
              "</style>\n",
              "<table border=\"1\" class=\"dataframe\">\n",
              "  <thead>\n",
              "    <tr style=\"text-align: right;\">\n",
              "      <th></th>\n",
              "      <th>instant</th>\n",
              "      <th>dteday</th>\n",
              "      <th>season</th>\n",
              "      <th>yr</th>\n",
              "      <th>mnth</th>\n",
              "      <th>holiday</th>\n",
              "      <th>weekday</th>\n",
              "      <th>workingday</th>\n",
              "      <th>weathersit</th>\n",
              "      <th>temp</th>\n",
              "      <th>atemp</th>\n",
              "      <th>hum</th>\n",
              "      <th>windspeed</th>\n",
              "      <th>casual</th>\n",
              "      <th>registered</th>\n",
              "      <th>cnt</th>\n",
              "    </tr>\n",
              "  </thead>\n",
              "  <tbody>\n",
              "    <tr>\n",
              "      <th>0</th>\n",
              "      <td>1</td>\n",
              "      <td>2011-01-01</td>\n",
              "      <td>1</td>\n",
              "      <td>0</td>\n",
              "      <td>1</td>\n",
              "      <td>0</td>\n",
              "      <td>6</td>\n",
              "      <td>0</td>\n",
              "      <td>2</td>\n",
              "      <td>0.344167</td>\n",
              "      <td>0.363625</td>\n",
              "      <td>0.805833</td>\n",
              "      <td>0.160446</td>\n",
              "      <td>331</td>\n",
              "      <td>654</td>\n",
              "      <td>985</td>\n",
              "    </tr>\n",
              "    <tr>\n",
              "      <th>1</th>\n",
              "      <td>2</td>\n",
              "      <td>2011-01-02</td>\n",
              "      <td>1</td>\n",
              "      <td>0</td>\n",
              "      <td>1</td>\n",
              "      <td>0</td>\n",
              "      <td>0</td>\n",
              "      <td>0</td>\n",
              "      <td>2</td>\n",
              "      <td>0.363478</td>\n",
              "      <td>0.353739</td>\n",
              "      <td>0.696087</td>\n",
              "      <td>0.248539</td>\n",
              "      <td>131</td>\n",
              "      <td>670</td>\n",
              "      <td>801</td>\n",
              "    </tr>\n",
              "    <tr>\n",
              "      <th>2</th>\n",
              "      <td>3</td>\n",
              "      <td>2011-01-03</td>\n",
              "      <td>1</td>\n",
              "      <td>0</td>\n",
              "      <td>1</td>\n",
              "      <td>0</td>\n",
              "      <td>1</td>\n",
              "      <td>1</td>\n",
              "      <td>1</td>\n",
              "      <td>0.196364</td>\n",
              "      <td>0.189405</td>\n",
              "      <td>0.437273</td>\n",
              "      <td>0.248309</td>\n",
              "      <td>120</td>\n",
              "      <td>1229</td>\n",
              "      <td>1349</td>\n",
              "    </tr>\n",
              "    <tr>\n",
              "      <th>3</th>\n",
              "      <td>4</td>\n",
              "      <td>2011-01-04</td>\n",
              "      <td>1</td>\n",
              "      <td>0</td>\n",
              "      <td>1</td>\n",
              "      <td>0</td>\n",
              "      <td>2</td>\n",
              "      <td>1</td>\n",
              "      <td>1</td>\n",
              "      <td>0.200000</td>\n",
              "      <td>0.212122</td>\n",
              "      <td>0.590435</td>\n",
              "      <td>0.160296</td>\n",
              "      <td>108</td>\n",
              "      <td>1454</td>\n",
              "      <td>1562</td>\n",
              "    </tr>\n",
              "    <tr>\n",
              "      <th>4</th>\n",
              "      <td>5</td>\n",
              "      <td>2011-01-05</td>\n",
              "      <td>1</td>\n",
              "      <td>0</td>\n",
              "      <td>1</td>\n",
              "      <td>0</td>\n",
              "      <td>3</td>\n",
              "      <td>1</td>\n",
              "      <td>1</td>\n",
              "      <td>0.226957</td>\n",
              "      <td>0.229270</td>\n",
              "      <td>0.436957</td>\n",
              "      <td>0.186900</td>\n",
              "      <td>82</td>\n",
              "      <td>1518</td>\n",
              "      <td>1600</td>\n",
              "    </tr>\n",
              "  </tbody>\n",
              "</table>\n",
              "</div>"
            ],
            "text/plain": [
              "   instant      dteday  season  yr  mnth  holiday  weekday  workingday  \\\n",
              "0        1  2011-01-01       1   0     1        0        6           0   \n",
              "1        2  2011-01-02       1   0     1        0        0           0   \n",
              "2        3  2011-01-03       1   0     1        0        1           1   \n",
              "3        4  2011-01-04       1   0     1        0        2           1   \n",
              "4        5  2011-01-05       1   0     1        0        3           1   \n",
              "\n",
              "   weathersit      temp     atemp       hum  windspeed  casual  registered  \\\n",
              "0           2  0.344167  0.363625  0.805833   0.160446     331         654   \n",
              "1           2  0.363478  0.353739  0.696087   0.248539     131         670   \n",
              "2           1  0.196364  0.189405  0.437273   0.248309     120        1229   \n",
              "3           1  0.200000  0.212122  0.590435   0.160296     108        1454   \n",
              "4           1  0.226957  0.229270  0.436957   0.186900      82        1518   \n",
              "\n",
              "    cnt  \n",
              "0   985  \n",
              "1   801  \n",
              "2  1349  \n",
              "3  1562  \n",
              "4  1600  "
            ]
          },
          "execution_count": 2,
          "metadata": {},
          "output_type": "execute_result"
        }
      ],
      "source": [
        "df = pd.read_csv(r'https://raw.githubusercontent.com/lrodriguesg/bike-bytes/master/data/raw/data.csv')\n",
        "df.head()"
      ]
    },
    {
      "cell_type": "code",
      "execution_count": 3,
      "metadata": {
        "colab": {
          "base_uri": "https://localhost:8080/",
          "height": 551
        },
        "id": "78hi6lUMQNTJ",
        "outputId": "9516f078-cf81-457e-f9c1-7e6defa6559d"
      },
      "outputs": [
        {
          "data": {
            "text/html": [
              "<div>\n",
              "<style scoped>\n",
              "    .dataframe tbody tr th:only-of-type {\n",
              "        vertical-align: middle;\n",
              "    }\n",
              "\n",
              "    .dataframe tbody tr th {\n",
              "        vertical-align: top;\n",
              "    }\n",
              "\n",
              "    .dataframe thead th {\n",
              "        text-align: right;\n",
              "    }\n",
              "</style>\n",
              "<table border=\"1\" class=\"dataframe\">\n",
              "  <thead>\n",
              "    <tr style=\"text-align: right;\">\n",
              "      <th></th>\n",
              "      <th>variavel</th>\n",
              "      <th>significado</th>\n",
              "      <th>tipo</th>\n",
              "      <th>subtipo</th>\n",
              "      <th>resposta</th>\n",
              "    </tr>\n",
              "  </thead>\n",
              "  <tbody>\n",
              "    <tr>\n",
              "      <th>0</th>\n",
              "      <td>instant</td>\n",
              "      <td>Índice de cada registro</td>\n",
              "      <td>Quantitativa</td>\n",
              "      <td>Discreta</td>\n",
              "      <td>True</td>\n",
              "    </tr>\n",
              "    <tr>\n",
              "      <th>1</th>\n",
              "      <td>dteday</td>\n",
              "      <td>Data</td>\n",
              "      <td>Quantitativa</td>\n",
              "      <td>Data</td>\n",
              "      <td>False</td>\n",
              "    </tr>\n",
              "    <tr>\n",
              "      <th>2</th>\n",
              "      <td>season</td>\n",
              "      <td>Estação do ano (1:inverno, 2:primavera, 3:verão, 4:outono)</td>\n",
              "      <td>Qualitativa</td>\n",
              "      <td>Nominal</td>\n",
              "      <td>False</td>\n",
              "    </tr>\n",
              "    <tr>\n",
              "      <th>3</th>\n",
              "      <td>yr</td>\n",
              "      <td>Ano em que ocorreu a locação (0: 2011, 1: 2012)</td>\n",
              "      <td>Quantitativa</td>\n",
              "      <td>Discreta</td>\n",
              "      <td>False</td>\n",
              "    </tr>\n",
              "    <tr>\n",
              "      <th>4</th>\n",
              "      <td>mnth</td>\n",
              "      <td>Mês</td>\n",
              "      <td>Qualitativa</td>\n",
              "      <td>Ordinal</td>\n",
              "      <td>False</td>\n",
              "    </tr>\n",
              "    <tr>\n",
              "      <th>5</th>\n",
              "      <td>holiday</td>\n",
              "      <td>Indica se era ou não feriado (0: não, 1: sim)</td>\n",
              "      <td>Qualitativa</td>\n",
              "      <td>Nominal</td>\n",
              "      <td>False</td>\n",
              "    </tr>\n",
              "    <tr>\n",
              "      <th>6</th>\n",
              "      <td>weekday</td>\n",
              "      <td>Dia da semana</td>\n",
              "      <td>Qualitativa</td>\n",
              "      <td>Ordinal</td>\n",
              "      <td>False</td>\n",
              "    </tr>\n",
              "    <tr>\n",
              "      <th>7</th>\n",
              "      <td>workingday</td>\n",
              "      <td>Indica se é dia útil ou não (0: não, 1: sim)</td>\n",
              "      <td>Qualitativa</td>\n",
              "      <td>Nominal</td>\n",
              "      <td>False</td>\n",
              "    </tr>\n",
              "    <tr>\n",
              "      <th>8</th>\n",
              "      <td>weathersit</td>\n",
              "      <td>Condição climática (1: Limpo, 2: Nublado, 3: Leve neve/chuva, 4: Chuva forte/neve)</td>\n",
              "      <td>Qualitativa</td>\n",
              "      <td>Ordinal</td>\n",
              "      <td>False</td>\n",
              "    </tr>\n",
              "    <tr>\n",
              "      <th>9</th>\n",
              "      <td>temp</td>\n",
              "      <td>Temperatura normalizada em Celsius(min = -8 graus, max = 39 graus)</td>\n",
              "      <td>Quantitativa</td>\n",
              "      <td>Contínua</td>\n",
              "      <td>False</td>\n",
              "    </tr>\n",
              "    <tr>\n",
              "      <th>10</th>\n",
              "      <td>atemp</td>\n",
              "      <td>Sensação térmica normalizada em Celsius (min = -16 graus, max = 50 graus)</td>\n",
              "      <td>Quantitativa</td>\n",
              "      <td>Contínua</td>\n",
              "      <td>False</td>\n",
              "    </tr>\n",
              "    <tr>\n",
              "      <th>11</th>\n",
              "      <td>hum</td>\n",
              "      <td>Umidade normalizada</td>\n",
              "      <td>Quantitativa</td>\n",
              "      <td>Contínua</td>\n",
              "      <td>False</td>\n",
              "    </tr>\n",
              "    <tr>\n",
              "      <th>12</th>\n",
              "      <td>windspeed</td>\n",
              "      <td>Velocidade do vento normalizada (max 100)</td>\n",
              "      <td>Quantitativa</td>\n",
              "      <td>Contínua</td>\n",
              "      <td>False</td>\n",
              "    </tr>\n",
              "    <tr>\n",
              "      <th>13</th>\n",
              "      <td>casual</td>\n",
              "      <td>Contagem de usuários casuais</td>\n",
              "      <td>Quantitativa</td>\n",
              "      <td>Discreta</td>\n",
              "      <td>True</td>\n",
              "    </tr>\n",
              "    <tr>\n",
              "      <th>14</th>\n",
              "      <td>registered</td>\n",
              "      <td>Contagem de usuários registrados</td>\n",
              "      <td>Quantitativa</td>\n",
              "      <td>Discreta</td>\n",
              "      <td>True</td>\n",
              "    </tr>\n",
              "    <tr>\n",
              "      <th>15</th>\n",
              "      <td>cnt</td>\n",
              "      <td>Contagem total de aluguéis</td>\n",
              "      <td>Quantitativa</td>\n",
              "      <td>Discreta</td>\n",
              "      <td>True</td>\n",
              "    </tr>\n",
              "  </tbody>\n",
              "</table>\n",
              "</div>"
            ],
            "text/plain": [
              "      variavel  \\\n",
              "0      instant   \n",
              "1       dteday   \n",
              "2       season   \n",
              "3           yr   \n",
              "4         mnth   \n",
              "5      holiday   \n",
              "6      weekday   \n",
              "7   workingday   \n",
              "8   weathersit   \n",
              "9         temp   \n",
              "10       atemp   \n",
              "11         hum   \n",
              "12   windspeed   \n",
              "13      casual   \n",
              "14  registered   \n",
              "15         cnt   \n",
              "\n",
              "                                                                           significado  \\\n",
              "0                                                              Índice de cada registro   \n",
              "1                                                                                 Data   \n",
              "2                           Estação do ano (1:inverno, 2:primavera, 3:verão, 4:outono)   \n",
              "3                                      Ano em que ocorreu a locação (0: 2011, 1: 2012)   \n",
              "4                                                                                  Mês   \n",
              "5                                        Indica se era ou não feriado (0: não, 1: sim)   \n",
              "6                                                                        Dia da semana   \n",
              "7                                         Indica se é dia útil ou não (0: não, 1: sim)   \n",
              "8   Condição climática (1: Limpo, 2: Nublado, 3: Leve neve/chuva, 4: Chuva forte/neve)   \n",
              "9                   Temperatura normalizada em Celsius(min = -8 graus, max = 39 graus)   \n",
              "10           Sensação térmica normalizada em Celsius (min = -16 graus, max = 50 graus)   \n",
              "11                                                                 Umidade normalizada   \n",
              "12                                           Velocidade do vento normalizada (max 100)   \n",
              "13                                                        Contagem de usuários casuais   \n",
              "14                                                    Contagem de usuários registrados   \n",
              "15                                                          Contagem total de aluguéis   \n",
              "\n",
              "            tipo   subtipo resposta  \n",
              "0   Quantitativa  Discreta     True  \n",
              "1   Quantitativa      Data    False  \n",
              "2    Qualitativa   Nominal    False  \n",
              "3   Quantitativa  Discreta    False  \n",
              "4    Qualitativa   Ordinal    False  \n",
              "5    Qualitativa   Nominal    False  \n",
              "6    Qualitativa   Ordinal    False  \n",
              "7    Qualitativa   Nominal    False  \n",
              "8    Qualitativa   Ordinal    False  \n",
              "9   Quantitativa  Contínua    False  \n",
              "10  Quantitativa  Contínua    False  \n",
              "11  Quantitativa  Contínua    False  \n",
              "12  Quantitativa  Contínua    False  \n",
              "13  Quantitativa  Discreta     True  \n",
              "14  Quantitativa  Discreta     True  \n",
              "15  Quantitativa  Discreta     True  "
            ]
          },
          "execution_count": 3,
          "metadata": {},
          "output_type": "execute_result"
        }
      ],
      "source": [
        "# Dicionário dos dados\n",
        "data_path = ('https://raw.githubusercontent.com/lrodriguesg/bike-bytes/master/data/external/dicionario.csv')\n",
        "df_dict = pd.read_csv(data_path, sep=',')\n",
        "pd.set_option('display.max_colwidth', None)\n",
        "\n",
        "df_dict"
      ]
    },
    {
      "cell_type": "markdown",
      "metadata": {
        "id": "0-f31w2X3lfP"
      },
      "source": [
        "###1.3 Tratamento dos dados"
      ]
    },
    {
      "cell_type": "code",
      "execution_count": 4,
      "metadata": {
        "id": "NEJ_uhVpYPEF"
      },
      "outputs": [],
      "source": [
        "# Seleção de Variáveis\n",
        "df_X = df[['season', 'temp', 'atemp', 'mnth', 'weekday', 'workingday', 'weathersit', 'hum', 'windspeed']] #independente\n",
        "df_y = df['cnt']# Depndente"
      ]
    },
    {
      "cell_type": "code",
      "execution_count": 5,
      "metadata": {
        "colab": {
          "base_uri": "https://localhost:8080/",
          "height": 288
        },
        "id": "YGjc87vtPhOe",
        "outputId": "2ee73fe3-4f8a-4edf-e6d5-ae7850eb09c9"
      },
      "outputs": [
        {
          "data": {
            "text/markdown": [
              "#### Quantidade faltante "
            ],
            "text/plain": [
              "<IPython.core.display.Markdown object>"
            ]
          },
          "metadata": {},
          "output_type": "display_data"
        },
        {
          "data": {
            "text/plain": [
              "season        0\n",
              "temp          0\n",
              "atemp         0\n",
              "mnth          0\n",
              "weekday       0\n",
              "workingday    0\n",
              "weathersit    0\n",
              "hum           0\n",
              "windspeed     0\n",
              "dtype: int64"
            ]
          },
          "metadata": {},
          "output_type": "display_data"
        },
        {
          "data": {
            "text/markdown": [
              "#### Quantidade de linhas e linhas"
            ],
            "text/plain": [
              "<IPython.core.display.Markdown object>"
            ]
          },
          "metadata": {},
          "output_type": "display_data"
        },
        {
          "data": {
            "text/plain": [
              "(731, 9)"
            ]
          },
          "metadata": {},
          "output_type": "display_data"
        }
      ],
      "source": [
        "#Dados faltantes\n",
        "display(Markdown(\"#### Quantidade faltante \"))\n",
        "display(df_X.isnull().sum())\n",
        "\n",
        "display(Markdown(\"#### Quantidade de linhas e linhas\"))\n",
        "display(df_X.shape)"
      ]
    },
    {
      "cell_type": "code",
      "execution_count": 6,
      "metadata": {
        "colab": {
          "base_uri": "https://localhost:8080/",
          "height": 132
        },
        "id": "zVYmjyXYcTL2",
        "outputId": "ae72d108-bdec-4791-f5e9-697da0ad5b76"
      },
      "outputs": [
        {
          "data": {
            "text/markdown": [
              "#### Quantidade faltante "
            ],
            "text/plain": [
              "<IPython.core.display.Markdown object>"
            ]
          },
          "metadata": {},
          "output_type": "display_data"
        },
        {
          "data": {
            "text/plain": [
              "0"
            ]
          },
          "metadata": {},
          "output_type": "display_data"
        },
        {
          "data": {
            "text/markdown": [
              "#### Quantidade de linhas e linhas"
            ],
            "text/plain": [
              "<IPython.core.display.Markdown object>"
            ]
          },
          "metadata": {},
          "output_type": "display_data"
        },
        {
          "data": {
            "text/plain": [
              "(731,)"
            ]
          },
          "metadata": {},
          "output_type": "display_data"
        }
      ],
      "source": [
        "display(Markdown(\"#### Quantidade faltante \"))\n",
        "display(df_y.isnull().sum())\n",
        "\n",
        "display(Markdown(\"#### Quantidade de linhas e linhas\"))\n",
        "display(df_y.shape)"
      ]
    },
    {
      "cell_type": "code",
      "execution_count": 7,
      "metadata": {
        "id": "gfiExRSoQjEF"
      },
      "outputs": [],
      "source": [
        "class OutlierExtractor(TransformerMixin):\n",
        "    def __init__(self, threshold=3, **kwargs):\n",
        "        self.threshold = threshold\n",
        "        self.kwargs = kwargs\n",
        "\n",
        "    def transform(self, X, y=None):\n",
        "        X = np.asarray(X)\n",
        "        std = np.std(X)\n",
        "        outliers_zscore = np.abs(cdist(X.mean(axis=0)[np.newaxis], X) / std)[0]\n",
        "        if y is not None:\n",
        "            y = np.asarray(y)\n",
        "            return (\n",
        "                X[outliers_zscore >= self.threshold, :],\n",
        "                y[outliers_zscore >= self.threshold]\n",
        "            )\n",
        "        return X[outliers_zscore >= self.threshold, :]\n",
        "\n",
        "    def fit(self, *args, **kwargs):\n",
        "        return self\n"
      ]
    },
    {
      "cell_type": "code",
      "execution_count": 8,
      "metadata": {
        "id": "rceiw101c1oZ"
      },
      "outputs": [],
      "source": [
        "outlier_transformer = OutlierExtractor(threshold=3)\n",
        "df_X, df_y = outlier_transformer.transform(df_X, y=df_y)"
      ]
    },
    {
      "cell_type": "markdown",
      "metadata": {
        "id": "Z2mRwnXE3xeR"
      },
      "source": [
        "##2.Escolha do Modelo"
      ]
    },
    {
      "cell_type": "markdown",
      "metadata": {
        "id": "3YM-KI-j4Ujy"
      },
      "source": [
        "###2.1 Metodologia"
      ]
    },
    {
      "cell_type": "markdown",
      "metadata": {
        "id": "uvCBgZeDj-27"
      },
      "source": [
        "Neste estudo, o nosso objetivo principal é prever o número diário de aluguéis de bicicletas. Para atingir esse objetivo, focamos na análise de variáveis específicas que mostraram ter uma correlação significativa com os aluguéis em uma análise anterior. As variáveis em questão são: **sensação térmica (atemp)**, **temp(temperatura)** e a **estação do ano (season)**. Acreditamos que essas variáveis as mais relevantes para entender os padrões de locação e, portanto, serão essenciais para nossos modelos de aprendizado de máquina ao fazer previsões precisas sobre a demanda futura.\n",
        "\n",
        "Os modelos de machine learning que exploraremos neste estudo incluem:\n",
        "\n",
        "* **Regressão Linear (RL)**: Nossa baseline, escolhido como nossa baseline devido à sua natureza interpretativa.\n",
        "* **K-Nearest Neighbors (KNN)**\n",
        "* **Support Vector Regressor (SVR)**:\n",
        "* **Árvore de Decisão para Regressão**\n",
        "\n",
        "Avaliaremos os modelos com base nas seguintes métricas:\n",
        "\n",
        "* **MSE (Erro Quadrático Médio)**\n",
        "* **RMSE (Raiz do Erro Quadrático Médio)**\n",
        "* **R² (Coeficiente de Determinação)**\n",
        "\n",
        "Para garantir a avaliação dos nossos modelos, adotamos a estratégia de validação cruzada k-fold. A validação cruzada k-fold é benéfica pois nos permite maximizar tanto o treinamento quanto o teste dos dados, garantindo uma avaliação mais abrangente do desempenho do modelo. Além disso, ao treinar o modelo em diferentes subconjuntos, podemos ter mais confiança na sua capacidade de generalização e menos propensos a overfitting."
      ]
    },
    {
      "cell_type": "markdown",
      "metadata": {
        "id": "hY_fVs_k1Uls"
      },
      "source": [
        "Nesta seção, definimos os modelos que serão avaliados, juntamente com suas respectivas configurações e parâmetros a serem considerados na busca em grid\n",
        "\n",
        "Estes modelos e parâmetros nos fornecerão uma variedade de combinações a serem avaliadas, garantindo uma busca para encontrar o melhor ajuste para nosso conjunto de dados.\n"
      ]
    },
    {
      "cell_type": "code",
      "execution_count": 9,
      "metadata": {
        "id": "rfBlt7wfF6AZ"
      },
      "outputs": [],
      "source": [
        "models = {\n",
        "    \"Regressão Linear\": LinearRegression(),\n",
        "    \"KNN\": KNeighborsRegressor(n_neighbors=5),\n",
        "    \"SVR\": SVR(max_iter=10000),\n",
        "    \"Árvore de Decisão\": DecisionTreeRegressor()\n",
        "}"
      ]
    },
    {
      "cell_type": "markdown",
      "metadata": {
        "id": "hF9T2VWj4e6g"
      },
      "source": [
        "###2.2 Configurando o Experimento\n"
      ]
    },
    {
      "cell_type": "code",
      "execution_count": 11,
      "metadata": {
        "colab": {
          "base_uri": "https://localhost:8080/",
          "height": 348
        },
        "id": "zCCbSwwk_Iaa",
        "outputId": "0a8ba3ef-dcfb-49f3-8be3-2ef07917f403"
      },
      "outputs": [
        {
          "name": "stderr",
          "output_type": "stream",
          "text": [
            "/home/dracom/.cache/pypoetry/virtualenvs/src-_a-Hv94b-py3.8/lib/python3.8/site-packages/sklearn/utils/validation.py:1111: DataConversionWarning: A column-vector y was passed when a 1d array was expected. Please change the shape of y to (n_samples, ), for example using ravel().\n",
            "  y = column_or_1d(y, warn=True)\n",
            "/home/dracom/.cache/pypoetry/virtualenvs/src-_a-Hv94b-py3.8/lib/python3.8/site-packages/sklearn/utils/validation.py:1111: DataConversionWarning: A column-vector y was passed when a 1d array was expected. Please change the shape of y to (n_samples, ), for example using ravel().\n",
            "  y = column_or_1d(y, warn=True)\n",
            "/home/dracom/.cache/pypoetry/virtualenvs/src-_a-Hv94b-py3.8/lib/python3.8/site-packages/sklearn/utils/validation.py:1111: DataConversionWarning: A column-vector y was passed when a 1d array was expected. Please change the shape of y to (n_samples, ), for example using ravel().\n",
            "  y = column_or_1d(y, warn=True)\n",
            "/home/dracom/.cache/pypoetry/virtualenvs/src-_a-Hv94b-py3.8/lib/python3.8/site-packages/sklearn/utils/validation.py:1111: DataConversionWarning: A column-vector y was passed when a 1d array was expected. Please change the shape of y to (n_samples, ), for example using ravel().\n",
            "  y = column_or_1d(y, warn=True)\n",
            "/home/dracom/.cache/pypoetry/virtualenvs/src-_a-Hv94b-py3.8/lib/python3.8/site-packages/sklearn/utils/validation.py:1111: DataConversionWarning: A column-vector y was passed when a 1d array was expected. Please change the shape of y to (n_samples, ), for example using ravel().\n",
            "  y = column_or_1d(y, warn=True)\n"
          ]
        },
        {
          "data": {
            "text/html": [
              "<div>\n",
              "<style scoped>\n",
              "    .dataframe tbody tr th:only-of-type {\n",
              "        vertical-align: middle;\n",
              "    }\n",
              "\n",
              "    .dataframe tbody tr th {\n",
              "        vertical-align: top;\n",
              "    }\n",
              "\n",
              "    .dataframe thead th {\n",
              "        text-align: right;\n",
              "    }\n",
              "</style>\n",
              "<table border=\"1\" class=\"dataframe\">\n",
              "  <thead>\n",
              "    <tr style=\"text-align: right;\">\n",
              "      <th></th>\n",
              "      <th>Modelo</th>\n",
              "      <th>Média RMSE</th>\n",
              "      <th>Média MSE</th>\n",
              "      <th>Média R²</th>\n",
              "    </tr>\n",
              "  </thead>\n",
              "  <tbody>\n",
              "    <tr>\n",
              "      <th>0</th>\n",
              "      <td>Regressão Linear</td>\n",
              "      <td>1311.060941</td>\n",
              "      <td>1.720848e+06</td>\n",
              "      <td>0.531764</td>\n",
              "    </tr>\n",
              "    <tr>\n",
              "      <th>1</th>\n",
              "      <td>KNN</td>\n",
              "      <td>1566.260103</td>\n",
              "      <td>2.453673e+06</td>\n",
              "      <td>0.332462</td>\n",
              "    </tr>\n",
              "    <tr>\n",
              "      <th>2</th>\n",
              "      <td>SVR</td>\n",
              "      <td>1305.795919</td>\n",
              "      <td>1.706476e+06</td>\n",
              "      <td>0.535448</td>\n",
              "    </tr>\n",
              "    <tr>\n",
              "      <th>3</th>\n",
              "      <td>Árvore de Decisão</td>\n",
              "      <td>1689.659156</td>\n",
              "      <td>2.859102e+06</td>\n",
              "      <td>0.225529</td>\n",
              "    </tr>\n",
              "  </tbody>\n",
              "</table>\n",
              "</div>"
            ],
            "text/plain": [
              "              Modelo   Média RMSE     Média MSE  Média R²\n",
              "0   Regressão Linear  1311.060941  1.720848e+06  0.531764\n",
              "1                KNN  1566.260103  2.453673e+06  0.332462\n",
              "2                SVR  1305.795919  1.706476e+06  0.535448\n",
              "3  Árvore de Decisão  1689.659156  2.859102e+06  0.225529"
            ]
          },
          "execution_count": 11,
          "metadata": {},
          "output_type": "execute_result"
        }
      ],
      "source": [
        "# Divisão dos Dados\n",
        "X = df[['season', 'temp', 'atemp', 'mnth', 'weekday', 'workingday', 'weathersit', 'hum', 'windspeed']]\n",
        "y = df[['cnt']]\n",
        "\n",
        "# Aplicar o One-Hot Encoding nas colunas categóricas\n",
        "encoder = OneHotEncoder(sparse=False, drop='first')\n",
        "X_encoded = encoder.fit_transform(X[['season', 'mnth', 'weekday', 'workingday', 'weathersit']])\n",
        "X_encoded_df = pd.DataFrame(X_encoded, columns=encoder.get_feature_names_out(['season', 'mnth', 'weekday', 'workingday', 'weathersit']))\n",
        "X = pd.concat([X.drop(['season', 'mnth', 'weekday', 'workingday', 'weathersit'], axis=1), X_encoded_df], axis=1)\n",
        "\n",
        "\n",
        "\n",
        "# Modelos\n",
        "modelos = [\n",
        "    ('Regressão Linear', LinearRegression()),\n",
        "    ('KNN', KNeighborsRegressor(n_neighbors=5)),\n",
        "    ('SVR', SVR(kernel='linear')),\n",
        "    ('Árvore de Decisão', DecisionTreeRegressor())\n",
        "]\n",
        "\n",
        "# Validação Cruzada K-Fold\n",
        "kf = KFold(n_splits=5, shuffle=True, random_state=42)\n",
        "resultados_cross2 = []\n",
        "\n",
        "for nome_modelo, modelo in modelos:\n",
        "    rmse_scores = []\n",
        "    mse_scores = []\n",
        "    r2_scores = []\n",
        "\n",
        "    for train_index, test_index in kf.split(X):\n",
        "        X_train, X_test = X.iloc[train_index], X.iloc[test_index]\n",
        "        y_train, y_test = y.iloc[train_index], y.iloc[test_index]\n",
        "\n",
        "        # Ajuste o scaler\n",
        "        scaler = MinMaxScaler()\n",
        "        y_train = scaler.fit_transform(y_train)\n",
        "\n",
        "        # Transforme y_test usando o scaler ajustado\n",
        "        y_test = scaler.transform(y_test)\n",
        "\n",
        "        modelo.fit(X_train, y_train)\n",
        "        y_pred = modelo.predict(X_test)\n",
        "\n",
        "        # Inverter a normalização para obter os valores reais\n",
        "        y_pred = scaler.inverse_transform(y_pred.reshape(-1, 1))\n",
        "        y_test = scaler.inverse_transform(y_test)\n",
        "\n",
        "        rmse = np.sqrt(mean_squared_error(y_test, y_pred))\n",
        "        mse = mean_squared_error(y_test, y_pred)\n",
        "        r2 = r2_score(y_test, y_pred)\n",
        "\n",
        "        rmse_scores.append(rmse)\n",
        "        mse_scores.append(mse)\n",
        "        r2_scores.append(r2)\n",
        "\n",
        "    media_rmse = np.mean(rmse_scores)\n",
        "    media_mse = np.mean(mse_scores)\n",
        "    media_r2 = np.mean(r2_scores)\n",
        "\n",
        "    resultados_cross2.append([nome_modelo, media_rmse, media_mse, media_r2])\n",
        "\n",
        "# Criar DataFrame com os resultados\n",
        "df_resultados_cross_val = pd.DataFrame(resultados_cross2, columns=['Modelo', 'Média RMSE', 'Média MSE', 'Média R²'])\n",
        "\n",
        "df_resultados_cross_val\n"
      ]
    },
    {
      "cell_type": "markdown",
      "metadata": {
        "id": "WjQ7F3hb4oOI"
      },
      "source": [
        "###2.3 Resultados"
      ]
    },
    {
      "cell_type": "code",
      "execution_count": null,
      "metadata": {
        "id": "hqJaKDtJId1i"
      },
      "outputs": [],
      "source": [
        "# Criando os subplots 2x2\n",
        "fig, axes = plt.subplots(2, 2, figsize=(15, 10))\n",
        "fig.suptitle('Análise dos Modelos', fontsize=16)\n",
        "\n",
        "# Primeiro gráfico: Média RMSE\n",
        "axes[0, 0].barh(df_resultados_cross_val['Modelo'], df_resultados_cross_val['Média RMSE'])\n",
        "axes[0, 0].set_title('Média RMSE')\n",
        "axes[0, 0].set_xlabel('RMSE')\n",
        "axes[0, 0].invert_yaxis()\n",
        "\n",
        "# Segundo gráfico: Média MSE\n",
        "axes[0, 1].barh(df_resultados_cross_val['Modelo'], df_resultados_cross_val['Média MSE'])\n",
        "axes[0, 1].set_title('Média MSE')\n",
        "axes[0, 1].set_xlabel('MSE')\n",
        "axes[0, 1].invert_yaxis()\n",
        "\n",
        "# Terceiro gráfico: Média R²\n",
        "axes[1, 0].barh(df_resultados_cross_val['Modelo'], df_resultados_cross_val['Média R²'])\n",
        "axes[1, 0].set_title('Média R²')\n",
        "axes[1, 0].set_xlabel('R²')\n",
        "axes[1, 0].invert_yaxis()\n",
        "\n",
        "# O quarto gráfico (axes[1, 1]) pode ser usado para outra métrica ou pode ser escondido se desejar\n",
        "axes[1, 1].axis('off')  # esconde o quarto gráfico\n",
        "\n",
        "# Ajuste os gráficos\n",
        "plt.tight_layout()\n",
        "plt.subplots_adjust(top=0.9)\n",
        "\n",
        "# Mostra os gráficos\n",
        "plt.show()"
      ]
    }
  ],
  "metadata": {
    "colab": {
      "provenance": []
    },
    "kernelspec": {
      "display_name": "Python 3",
      "name": "python3"
    },
    "language_info": {
      "codemirror_mode": {
        "name": "ipython",
        "version": 3
      },
      "file_extension": ".py",
      "mimetype": "text/x-python",
      "name": "python",
      "nbconvert_exporter": "python",
      "pygments_lexer": "ipython3",
      "version": "3.8.10"
    }
  },
  "nbformat": 4,
  "nbformat_minor": 0
}
